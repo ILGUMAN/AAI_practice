{
  "nbformat": 4,
  "nbformat_minor": 0,
  "metadata": {
    "colab": {
      "provenance": []
    },
    "kernelspec": {
      "name": "python3",
      "display_name": "Python 3"
    },
    "language_info": {
      "name": "python"
    }
  },
  "cells": [
    {
      "cell_type": "markdown",
      "source": [
        "Введите ваше ФИО:"
      ],
      "metadata": {
        "id": "k8oVfdwrMXyc"
      }
    },
    {
      "cell_type": "code",
      "execution_count": null,
      "metadata": {
        "id": "5mcBLsKMI1-5",
        "colab": {
          "base_uri": "https://localhost:8080/"
        },
        "outputId": "621ae63c-5706-449a-a7cd-41d8095001dd"
      },
      "outputs": [
        {
          "output_type": "stream",
          "name": "stdout",
          "text": [
            "Суханов Илья Алексеевич\n"
          ]
        }
      ],
      "source": [
        "print('Суханов Илья Алексеевич')"
      ]
    },
    {
      "cell_type": "markdown",
      "source": [
        "***Дисклеймер***\n",
        "\n",
        "В данной практике запрещено использования функций:\n",
        "\n",
        "\n",
        "*   sum()\n",
        "*   min()\n",
        "*   max()\n",
        "*   average()\n",
        "*   reversed()\n",
        "*   sorted()\n",
        "*   готовые функции или библиотеки\n"
      ],
      "metadata": {
        "id": "8HbYUbm3Jw3o"
      }
    },
    {
      "cell_type": "markdown",
      "source": [
        "\n",
        "**Задача 1:**\n",
        "\n",
        "\n",
        "\n",
        "Интернет-магазин предлагает следующие условия скидок:\n",
        "\n",
        "*   Для заказов больше 1000 единиц, клиент получает скидку 5%. Если клиент использует промокод SUPERDISCOUNT, он получает скидку 10%.\n",
        "*  Для заказов стоимостью более 5000 единиц, клиент получает скидку 15%, а использование промокода SUPERDISCOUNT увеличивает скидку до 20%.\n",
        "\n",
        "Этап 1:\n",
        "Ввод:\n",
        "```\n",
        "Введите стоимость единицы товара: 5\n",
        "Введите количество товара: 1000\n",
        "Введите промокод: GiVEMEDISCONT\n",
        "```\n",
        "\n",
        "Вывод:\n",
        "\n",
        "```\n",
        "Ваша скидка: 5%\n",
        "Итоговая сумма: 4750.0\n",
        "```\n",
        "Этап 2:\n",
        "\n",
        "Оформите ваш код в виде функции"
      ],
      "metadata": {
        "id": "HmX0c6YPJSQr"
      }
    },
    {
      "cell_type": "code",
      "source": [
        "stoimost=int(input('Введите стоимость единицы товара:'))\n",
        "tovar=int(input('Введите количество товара:'))\n",
        "promocode=input('Введите промокод:')\n",
        "skidka=0\n",
        "def shop(stoimost,tovar,promocode,skidka):\n",
        "  if 1000<stoimost<5000:\n",
        "    skidka=0.05\n",
        "  elif 1000<stoimost<5000 and promocode=='SUPERDISCOUNT':\n",
        "    skidka=0.5\n",
        "  elif stoimost>5000:\n",
        "    skidka=0.15\n",
        "  elif stoimost>5000 and promocode=='SUPERDISCOUNT':\n",
        "    skidka=0.2\n",
        "  return stoimost*tovar-stoimost*tovar*skidka\n",
        "\n",
        "print('Ваша скидка:',(stoimost*tovar-shop(stoimost,tovar,promocode,skidka))/stoimost*tovar)\n",
        "print('Итоговая сумма:',shop(stoimost,tovar,promocode,skidka))"
      ],
      "metadata": {
        "id": "OAIMIpklMN5D",
        "colab": {
          "base_uri": "https://localhost:8080/"
        },
        "outputId": "77adb1cc-7160-4833-a94d-4ee94c60d2a7"
      },
      "execution_count": null,
      "outputs": [
        {
          "output_type": "stream",
          "name": "stdout",
          "text": [
            "Введите стоимость единицы товара:1005\n",
            "Введите количество товара:1\n",
            "Введите промокод:1\n",
            "Ваша скидка: 0.05\n",
            "Итоговая сумма: 954.75\n"
          ]
        }
      ]
    },
    {
      "cell_type": "markdown",
      "source": [
        "**Задача 2:**\n",
        "\n",
        "Этап 1:\n",
        "Напишите программу способную отфильтровать список и вывести только положительные элементы\n",
        "\n",
        "\n",
        "Ввод:\n",
        "```\n",
        "-1 5 1 2 -3\n",
        "```\n",
        "\n",
        "Вывод:\n",
        "\n",
        "```\n",
        "5 1 2\n",
        "```\n",
        "\n",
        "Этап 2:\n",
        "\n",
        "Оформите ваш код в виде функции"
      ],
      "metadata": {
        "id": "eeRVWpuLNGJ0"
      }
    },
    {
      "cell_type": "code",
      "source": [
        "CHISLA=[]\n",
        "dlina=int(input('Количество чисел:'))\n",
        "for element in range(dlina):\n",
        "  chislo=int(input('Число:'))\n",
        "  CHISLA.append(chislo)\n",
        "POLOZHITELNIE=[]\n",
        "for chislo in CHISLA:\n",
        "  if chislo>0:\n",
        "    POLOZHITELNIE.append(chislo)\n",
        "print('Положительные:',*POLOZHITELNIE)"
      ],
      "metadata": {
        "id": "Xbi6bL0WOE9N",
        "colab": {
          "base_uri": "https://localhost:8080/"
        },
        "outputId": "43b33303-7061-49a9-ed47-e606c3ad16d7"
      },
      "execution_count": null,
      "outputs": [
        {
          "output_type": "stream",
          "name": "stdout",
          "text": [
            "Количество чисел:6\n",
            "Число:1\n",
            "Число:-1\n",
            "Число:2\n",
            "Число:-2\n",
            "Число:3\n",
            "Число:-3\n",
            "1 2 3\n"
          ]
        }
      ]
    },
    {
      "cell_type": "markdown",
      "source": [
        "**Задача 3:**\n",
        "\n",
        "Этап 1:\n",
        "Напишите программу реализующую Алгоритм Евклида\n",
        "\n",
        "\n",
        "> Алгоритм Евклида – это алгоритм нахождения наибольшего общего делителя (НОД) пары целых чисел.\n",
        "\n",
        "\n",
        "\n",
        "Ввод:\n",
        "```\n",
        "30 18\n",
        "```\n",
        "\n",
        "Вывод:\n",
        "\n",
        "```\n",
        "6\n",
        "```\n",
        "\n",
        "Этап 2:\n",
        "Оформите ваш код в виде функции\n"
      ],
      "metadata": {
        "id": "lV-w6G-POa6F"
      }
    },
    {
      "cell_type": "code",
      "source": [
        "chislo1,chislo2=map(int,input('Ваши два числа:').split(' '))\n",
        "def NOD(chislo1,chislo2):\n",
        "  while chislo1!=chislo2:\n",
        "    if chislo1>chislo2:\n",
        "      chislo1-=chislo2\n",
        "    else:\n",
        "      chislo2-=chislo1\n",
        "  return chislo1\n",
        "print('НОД:',NOD(chislo1,chislo2))"
      ],
      "metadata": {
        "id": "43Dl5tIpOZsu",
        "colab": {
          "base_uri": "https://localhost:8080/"
        },
        "outputId": "e08b2e11-d117-4d5e-f9ff-a7f1e55cedbe"
      },
      "execution_count": null,
      "outputs": [
        {
          "output_type": "stream",
          "name": "stdout",
          "text": [
            "Ваши два числа:15 20\n",
            "НОД: 5\n"
          ]
        }
      ]
    },
    {
      "cell_type": "markdown",
      "source": [
        "**Задача 4:**\n",
        "\n",
        "Этап 1:\n",
        "Напишите функцию программу, которая принимает строку и возвращает список слов и количество их упомнинаний в предложении\n",
        "\n",
        "Этап 2:\n",
        "Оформите ваш код в виде функции\n",
        "\n",
        "Ввод:\n",
        "```\n",
        "apple banana apple\n",
        "```\n",
        "\n",
        "Вывод:\n",
        "\n",
        "```\n",
        "apple: 2,\n",
        "banana: 1\n",
        "```"
      ],
      "metadata": {
        "id": "WIfPFxpsO0zL"
      }
    },
    {
      "cell_type": "code",
      "source": [
        "stroka=input('Строка:')\n",
        "def kolichestvo_slov(stroka):\n",
        "  slova={}\n",
        "  for slovo in stroka:\n",
        "    if slovo not in slova:\n",
        "      slova[slovo]=1\n",
        "    else:\n",
        "      slova[slovo]+=1\n",
        "  del slova[' ']\n",
        "  return slova\n",
        "slova=kolichestvo_slov(stroka)\n",
        "for slovo in slova:\n",
        "  print(slovo+':',slova[slovo])"
      ],
      "metadata": {
        "id": "DgsmFeW5Po_x",
        "colab": {
          "base_uri": "https://localhost:8080/"
        },
        "outputId": "dafc44bb-a99a-49f5-b7d1-3081a876905c"
      },
      "execution_count": null,
      "outputs": [
        {
          "output_type": "stream",
          "name": "stdout",
          "text": [
            "Строка:1 1 2 3 4 4 4\n",
            "1: 2\n",
            "2: 1\n",
            "3: 1\n",
            "4: 3\n"
          ]
        }
      ]
    },
    {
      "cell_type": "markdown",
      "source": [
        "**Задача 5:**\n",
        "\n",
        "Этап 1:\n",
        "Детектор анаграмм Напишите программу на Python, которая принимает в качестве входных данных две строки и проверяет, являются ли они анаграммами друг друга\n",
        "\n",
        "Этап 2:\n",
        "Оформите ваш код в виде функции\n",
        "\n",
        "Ввод:\n",
        "```\n",
        "listen, silent\n",
        "```\n",
        "\n",
        "Вывод:\n",
        "\n",
        "```\n",
        "True\n",
        "```"
      ],
      "metadata": {
        "id": "5BmIJLUZP9I-"
      }
    },
    {
      "cell_type": "code",
      "source": [
        "slovo1,slovo2=map(str,input('Ваши два слова:').split(' '))\n",
        "def anagramma(slovo1,slovo2):\n",
        "  bukvi1={}\n",
        "  bukvi2={}\n",
        "  for bukva in slovo1:\n",
        "    if bukva not in bukvi1:\n",
        "      bukvi1[bukva]=1\n",
        "    else:\n",
        "      bukvi1[bukva]+=1\n",
        "  for bukva in slovo2:\n",
        "    if bukva not in bukvi2:\n",
        "      bukvi2[bukva]=1\n",
        "    else:\n",
        "      bukvi2[bukva]+=1\n",
        "  if bukvi1==bukvi2:\n",
        "    return True\n",
        "  else:\n",
        "    return False\n",
        "print(anagramma(slovo1,slovo2))"
      ],
      "metadata": {
        "id": "7LNW8DuHQJwH",
        "colab": {
          "base_uri": "https://localhost:8080/"
        },
        "outputId": "d0e8fef5-3f6c-4089-85dc-0af217c383a3"
      },
      "execution_count": null,
      "outputs": [
        {
          "output_type": "stream",
          "name": "stdout",
          "text": [
            "Ваши два слова:123 321\n",
            "True\n"
          ]
        }
      ]
    },
    {
      "cell_type": "markdown",
      "source": [
        "**Задача 5:**\n",
        "\n",
        "Шифр ​​Цезаря\n",
        "\n",
        "Напишите программу на Python, которая реализует шифр Цезаря, простой метод шифрования, который заменяет каждую букву буквой на фиксированное количество позиций вниз по алфавиту. Программа должна запрашивать у пользователя сообщение и значение сдвига, а затем шифровать и расшифровывать сообщение.\n",
        "\n",
        "Этап 1:\n",
        "\n",
        "Напишите код для реализации данной задачи\n",
        "\n",
        "Этап 2:\n",
        "\n",
        "Оформите код в виде нескольких функций:\n",
        "\n",
        "* Зашифровывает сообщение\n",
        "* Расшифровывает сообщение"
      ],
      "metadata": {
        "id": "-SIWYSq2QKBh"
      }
    },
    {
      "cell_type": "code",
      "source": [
        "soobshenie=input('Сообщение:')\n",
        "sdvig=int(input('Сдвиг:'))\n",
        "alfavit=['а','б','в','г','д','е','ё','ж','з','и','й','к','л','м','н','о','п','р','с','т','у','ф','х','ц','ч','ш','щ','ъ','ы','ь','э','ю','я']\n",
        "def zashifrovat(soobshenie,sdvig):\n",
        "  shifr=''\n",
        "  for bukva in soobshenie:\n",
        "    for simvol in range(len(alfavit)):\n",
        "      if alfavit[simvol]==bukva:\n",
        "        shifr+=str(alfavit[simvol-sdvig])\n",
        "  return shifr\n",
        "print(zashifrovat(soobshenie,sdvig))\n",
        "\n",
        "shifr=[]\n",
        "for bukva in zashifrovat(soobshenie,sdvig):\n",
        "  shifr.append(bukva)\n",
        "\n",
        "def rashifrovat(shifr,sdvig):\n",
        "  rashifr=''\n",
        "  for bukva in soobshenie:\n",
        "    for simvol in range(len(shifr)):\n",
        "      if shifr[simvol]==bukva:\n",
        "        rashifr+=str(alfavit[simvol])\n",
        "  return rashifr\n",
        "print(rashifrovat(soobshenie,sdvig))"
      ],
      "metadata": {
        "id": "anThYirsQe6N",
        "colab": {
          "base_uri": "https://localhost:8080/"
        },
        "outputId": "5815786a-fc35-4777-ea8b-f60f284cc0f3"
      },
      "execution_count": null,
      "outputs": [
        {
          "output_type": "stream",
          "name": "stdout",
          "text": [
            "Сообщение:абв\n",
            "Сдвиг:3\n",
            "эюя\n",
            "абв\n"
          ]
        }
      ]
    },
    {
      "cell_type": "markdown",
      "source": [
        "**Задача 6**\n",
        "\n",
        "Задача: «Банковская система»\n",
        "\n",
        "Создайте программу Python, которая имитирует базовую банковскую систему. Система должна иметь следующие функции:\n",
        "\n",
        "Требования\n",
        "*   Система должна позволять клиентам создавать счета и хранить их балансы.\n",
        "*   Система должна позволять клиентам вносить и снимать деньги со своих счетов.\n",
        "*   Система должна позволять клиентам проверять свой текущий баланс.\n",
        "*   Система должна позволять клиентам переводить деньги между счетами.\n",
        "*   Система должна отслеживать транзакции (депозиты, снятия и переводы) и иметь возможность печатать детали транзакций.\n",
        "\n",
        "\n",
        "Задачи\n",
        "1. Реализуйте банковскую систему, используя только базовые конструкции Python, такие как def, lists, if, elif и else, без классов или словарей.\n",
        "Определите функции для создания счетов, внесения и снятия денег, получения балансов счетов, перевода денег между счетами, а также создания и печати транзакций.\n",
        "2. Напишите основную функцию, которая демонстрирует использование банковской системы путем создания счетов, внесения и снятия денег и перевода денег между счетами.\n",
        "3. Бонусное задание\n",
        "Реализуйте способ хранения и печати истории транзакций для каждого счета.\n",
        "\n",
        "Ограничения\n",
        "Не используйте классы или словари.\n",
        "Используйте только базовые конструкции Python, такие как def, lists, if, elif и else.\n"
      ],
      "metadata": {
        "id": "avFZRRXrQz9O"
      }
    },
    {
      "cell_type": "code",
      "source": [],
      "metadata": {
        "colab": {
          "base_uri": "https://localhost:8080/"
        },
        "id": "dWEW10zIRwjs",
        "outputId": "761d1d03-5ecd-47b4-9ec3-d964c25fe29a"
      },
      "execution_count": null,
      "outputs": [
        {
          "output_type": "stream",
          "name": "stdout",
          "text": [
            "John Doe's current balance: $500\n",
            "Transaction: Initial deposit, $1000, deposit\n",
            "Transaction: Withdrawal, $500, withdrawal\n",
            "Jane Doe's current balance: $200\n"
          ]
        }
      ]
    }
  ]
}