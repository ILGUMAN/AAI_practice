{
  "nbformat": 4,
  "nbformat_minor": 0,
  "metadata": {
    "colab": {
      "provenance": []
    },
    "kernelspec": {
      "name": "python3",
      "display_name": "Python 3"
    },
    "language_info": {
      "name": "python"
    }
  },
  "cells": [
    {
      "cell_type": "markdown",
      "source": [
        "\n",
        "\n",
        "---\n",
        "\n"
      ],
      "metadata": {
        "id": "tKNG_RzWxG6g"
      }
    },
    {
      "cell_type": "markdown",
      "source": [
        "# **Дисклеймер**\n",
        "\n",
        "В данной практике будет введен дополнительный критерий: чистота и читаемость кода, а также соблюдение правил описанных в начале практики"
      ],
      "metadata": {
        "id": "cFcrKfclKWh0"
      }
    },
    {
      "cell_type": "code",
      "source": [
        "'Суханов Илья Алексеевич'"
      ],
      "metadata": {
        "colab": {
          "base_uri": "https://localhost:8080/",
          "height": 35
        },
        "id": "jp17IE1emboz",
        "outputId": "9942b497-41f5-45d9-b901-248a0ca027bd"
      },
      "execution_count": null,
      "outputs": [
        {
          "output_type": "execute_result",
          "data": {
            "text/plain": [
              "'Суханов Илья Алексеевич'"
            ],
            "application/vnd.google.colaboratory.intrinsic+json": {
              "type": "string"
            }
          },
          "metadata": {},
          "execution_count": 32
        }
      ]
    },
    {
      "cell_type": "markdown",
      "source": [
        "\n",
        "\n",
        "---\n",
        "\n"
      ],
      "metadata": {
        "id": "0SnE87X1xDlV"
      }
    },
    {
      "cell_type": "markdown",
      "source": [
        "# Задание 1\n",
        "\n",
        "**Задача:**\n",
        "\n",
        "Напишите функцию очищающий список от дубликтов\n",
        "\n",
        "\n",
        "*Запрещено:*\n",
        "\n",
        "*   Использовать set() или готовые функции очищающие список от дубликатов\n",
        "\n",
        "Вввод:\n",
        "\n",
        "```\n",
        "apple banana apple 1 3 4 4 5\n",
        "```\n",
        "\n",
        "\n",
        "Вывод:\n",
        "\n",
        "```\n",
        "apple banana 1 3 4 5\n",
        "```\n",
        "\n"
      ],
      "metadata": {
        "id": "VxawR9NubT_F"
      }
    },
    {
      "cell_type": "code",
      "source": [
        "def clean(str_):\n",
        "\n",
        "  STR_ = []\n",
        "\n",
        "  for element in str_.split(' '):\n",
        "    if element not in STR_:\n",
        "      STR_.append(element)\n",
        "\n",
        "  return STR_\n",
        "\n",
        "\n",
        "str_=input()\n",
        "print(*clean(str_))"
      ],
      "metadata": {
        "id": "ml5gnbPXbeju",
        "colab": {
          "base_uri": "https://localhost:8080/"
        },
        "outputId": "08d0483e-f24f-4add-8be1-1f9890f48152"
      },
      "execution_count": null,
      "outputs": [
        {
          "output_type": "stream",
          "name": "stdout",
          "text": [
            "apple banana apple 1 3 4 4 5\n",
            "apple banana 1 3 4 5\n"
          ]
        }
      ]
    },
    {
      "cell_type": "markdown",
      "source": [
        "# Задание 2\n",
        "\n",
        "**Задача:**\n",
        "\n",
        "Написать функцию для нахождения простых чисел в диапазоне\n",
        "\n",
        "Ввод:\n",
        "\n",
        "```\n",
        "10, 50\n",
        "```\n",
        "\n",
        "Вывод:\n",
        "\n",
        "```\n",
        "11, 13, 17, 19, 23, 29, 31, 37, 41, 43, 47\n",
        "```"
      ],
      "metadata": {
        "id": "y05x0eD0cVCC"
      }
    },
    {
      "cell_type": "code",
      "source": [
        "def prime_numbers(from_, to_):\n",
        "\n",
        "  PRIME_NUMBERS = []\n",
        "  dividers = 0\n",
        "\n",
        "  for number in range(from_, to_ + 1):\n",
        "    for divider in range(2, number):\n",
        "      if number % divider == 0:\n",
        "        dividers += 1\n",
        "    if dividers == 0:\n",
        "      PRIME_NUMBERS.append(number)\n",
        "    else:\n",
        "      dividers = 0\n",
        "\n",
        "  return PRIME_NUMBERS\n",
        "\n",
        "\n",
        "from_, to_ = map(int, input().split(', '))\n",
        "print(*prime_numbers(from_, to_), sep=', ')"
      ],
      "metadata": {
        "id": "XSMJnLgrc6Bf",
        "colab": {
          "base_uri": "https://localhost:8080/"
        },
        "outputId": "d9262096-0600-4801-c18b-1d6bb1a874e8"
      },
      "execution_count": null,
      "outputs": [
        {
          "output_type": "stream",
          "name": "stdout",
          "text": [
            "10, 50\n",
            "11, 13, 17, 19, 23, 29, 31, 37, 41, 43, 47\n"
          ]
        }
      ]
    },
    {
      "cell_type": "markdown",
      "source": [
        "# Задание 3\n",
        "\n",
        "Напишите функцию для объединения двух списков (список ключей и список значении) в словарь\n",
        "\n",
        "*Запрещено:*\n",
        "\n",
        "*   Использования готовых функции для объединения списков (пример: zip() )\n",
        "\n",
        "Дано:\n",
        "\n",
        "```\n",
        "keys = ['a', 'b', 'c', 'e' ]\n",
        "values = [1, 2, 3, 4]\n",
        "```\n",
        "\n",
        "Вывод:\n",
        "```\n",
        "{'a': 1, 'b': 2, 'c': 3, 'e': 4}\n",
        "```\n",
        "\n",
        "\n"
      ],
      "metadata": {
        "id": "vYM0LyxxdElN"
      }
    },
    {
      "cell_type": "code",
      "source": [
        "def fusion_of_lists(KEYS, VALUES):\n",
        "\n",
        "  dictionary = {}\n",
        "\n",
        "  for key in KEYS:\n",
        "    for value in VALUES:\n",
        "      dictionary[key] = value\n",
        "      VALUES.remove(value)\n",
        "      break\n",
        "\n",
        "  return dictionary\n",
        "\n",
        "\n",
        "KEYS = ['a', 'b', 'c', 'e' ]\n",
        "VALUES = [1, 2, 3, 4]\n",
        "\n",
        "\n",
        "print(fusion_of_lists(KEYS, VALUES))"
      ],
      "metadata": {
        "id": "CRvhHTjCdvjS",
        "colab": {
          "base_uri": "https://localhost:8080/"
        },
        "outputId": "dd0717eb-4e34-42c1-cd0b-16ace83a29a1"
      },
      "execution_count": null,
      "outputs": [
        {
          "output_type": "stream",
          "name": "stdout",
          "text": [
            "{'a': 1, 'b': 2, 'c': 3, 'e': 4}\n"
          ]
        }
      ]
    },
    {
      "cell_type": "markdown",
      "source": [
        "# Задание 4\n",
        "\n",
        "Напишите функцию(ии) для подсчета статистических параметров:\n",
        "*   Сумму\n",
        "*   Среднее арифметическое\n",
        "*   Медиану\n",
        "*   Моду\n",
        "\n",
        "\n",
        "*Запрещено:*\n",
        "\n",
        "*   sum()\n",
        "*   sorted()\n",
        "*   и других функции предоставляющих готовое решение задания\n",
        "\n",
        "Дано:\n",
        "\n",
        "```\n",
        "numbers = [1, 2, 2, 3, 4, 5, 6, 7, 8 ,9 ,10]\n",
        "\n",
        "```\n",
        "\n",
        "Вывод:\n",
        "```\n",
        "{'mean': 5.181818181818182, 'median': 5, 'mode': 2, 'sum': 57}\n",
        "```\n"
      ],
      "metadata": {
        "id": "L_w8H8i-fQcP"
      }
    },
    {
      "cell_type": "code",
      "source": [
        "def statistical_parameters(NUMBERS):\n",
        "\n",
        "  sum = 0\n",
        "  arithmetic_mean = 0\n",
        "  median = 0\n",
        "  mode = 0\n",
        "  result = {}\n",
        "\n",
        "  for number in NUMBERS:\n",
        "    sum += number\n",
        "\n",
        "  arithmetic_mean = sum / len(NUMBERS)\n",
        "\n",
        "  median_index = int((len(NUMBERS) + 1) / 2)\n",
        "  median = NUMBERS[median_index - 1]\n",
        "\n",
        "  for number in range(len(NUMBERS) - 1):\n",
        "    if NUMBERS.count(NUMBERS[number]) > NUMBERS.count(NUMBERS[number + 1]):\n",
        "      mode = NUMBERS.count(NUMBERS[number])\n",
        "    else:\n",
        "      mode = NUMBERS.count(NUMBERS[number + 1])\n",
        "\n",
        "  result['sum'] = sum\n",
        "  result['arithmetic_mean'] = arithmetic_mean\n",
        "  result['median'] = median\n",
        "  result['mode'] = mode\n",
        "\n",
        "  return result\n",
        "\n",
        "\n",
        "NUMBERS = [1, 2, 2, 3, 4, 5, 6, 7, 8 ,9 ,10]\n",
        "\n",
        "\n",
        "print(statistical_parameters(NUMBERS))"
      ],
      "metadata": {
        "id": "dW6jW_rjfuba",
        "colab": {
          "base_uri": "https://localhost:8080/"
        },
        "outputId": "cfa4318d-e053-4bf7-c450-9fd9253ab009"
      },
      "execution_count": null,
      "outputs": [
        {
          "output_type": "stream",
          "name": "stdout",
          "text": [
            "{'sum': 57, 'arithmetic_mean': 5.181818181818182, 'median': 5, 'mode': 1}\n"
          ]
        }
      ]
    },
    {
      "cell_type": "markdown",
      "source": [
        "# Задание 5\n",
        "\n",
        "На ввод поступает строка символов. Строка состоит из слов, которые отделены друг от друга пробелами. Необходимо вывести самое длинное слово и его порядковый номер.\n",
        "\n",
        "*Запрещено:*\n",
        "\n",
        "*   len()\n",
        "\n",
        "Дано:\n",
        "\n",
        "```\n",
        "Страдание и боль всегда обязательны для широкого сознания и глубокого сердца.\n",
        "\n",
        "```\n",
        "\n",
        "Вывод:\n",
        "```\n",
        "Самое длинное слово с номером 5: обязательны\n",
        "```"
      ],
      "metadata": {
        "id": "hZW0NZ7SgTcp"
      }
    },
    {
      "cell_type": "code",
      "source": [
        "str_ = 'Страдание и боль всегда обязательны для широкого сознания и глубокого сердца.'[:-1]\n",
        "\n",
        "STR_ = str_.split(' ')\n",
        "max = 0\n",
        "number_of_word = 1\n",
        "\n",
        "for word in STR_:\n",
        "  length = 0\n",
        "  for letter in word:\n",
        "    length += 1\n",
        "  if length > max:\n",
        "    max = length\n",
        "\n",
        "for word in STR_:\n",
        "  length = 0\n",
        "  for letter in word:\n",
        "    length += 1\n",
        "  if length == max:\n",
        "    the_longest = word\n",
        "\n",
        "for word in STR_:\n",
        "  if word == the_longest:\n",
        "    print('Самое длинное слово с номером', str(number_of_word) + ':',the_longest)\n",
        "  else:\n",
        "    number_of_word += 1"
      ],
      "metadata": {
        "id": "rC5DpHHLsDYp",
        "colab": {
          "base_uri": "https://localhost:8080/"
        },
        "outputId": "d69b6360-4e5a-40c9-8d26-bd50240fcf9b"
      },
      "execution_count": null,
      "outputs": [
        {
          "output_type": "stream",
          "name": "stdout",
          "text": [
            "Самое длинное слово с номером 5: обязательны\n"
          ]
        }
      ]
    },
    {
      "cell_type": "markdown",
      "source": [
        "# Задание 6\n",
        "\n",
        "Напишите программу, для управления оценками студентов, со следующими функциями:\n",
        "\n",
        "* Добавление информации о студенте и его оценках.\n",
        "* Подсчет среднего балла студента.\n",
        "* Получение списка всех студентов с их средними баллами.\n",
        "* Поиск студента по имени и вывод его оценок и среднего балла.\n",
        "\n",
        "\n",
        "\n"
      ],
      "metadata": {
        "id": "k5BzJW5ZeaQN"
      }
    },
    {
      "cell_type": "code",
      "source": [
        "def add_grades(name, grade):\n",
        "  if name not in students.key():\n",
        "    students[name] = list(grade)\n",
        "  else:\n",
        "    students[name].append(grade)\n",
        "\n",
        "\n",
        "def average_score(name):\n",
        "  for\n",
        "\n",
        "\n",
        "def list_of_students():\n",
        "\n",
        "\n",
        "def find_student(name)\n",
        "\n",
        "\n",
        "students = {}\n",
        "\n",
        "while True:\n",
        "  print('Функции:')\n",
        "  print('Добавить оценку')\n",
        "  print('Подсчёт среднего балла')\n",
        "  print('Список студентов')\n",
        "  print('Поиск студента')\n",
        "\n",
        "  function = input('Имя функции:')\n",
        "\n",
        "  if function == 'Добавить оценку':\n",
        "    add_grades(name, grade)\n",
        "\n",
        "  elif function == 'Подсчёт среднего балла':\n",
        "    average_score(name)\n",
        "\n",
        "  elif function == 'Список студентов':\n",
        "    list_of_students()\n",
        "\n",
        "  elif function == 'Поиск студента':\n",
        "    find_student(name)\n",
        "\n",
        "  else:\n",
        "    print('Нет такой функции!')"
      ],
      "metadata": {
        "id": "cvhlltVbdyoL",
        "colab": {
          "base_uri": "https://localhost:8080/",
          "height": 106
        },
        "outputId": "570c3b04-78b3-421d-b552-274c34a86f17"
      },
      "execution_count": null,
      "outputs": [
        {
          "output_type": "error",
          "ename": "IndentationError",
          "evalue": "expected an indented block after function definition on line 4 (<ipython-input-50-f9f35de8442e>, line 6)",
          "traceback": [
            "\u001b[0;36m  File \u001b[0;32m\"<ipython-input-50-f9f35de8442e>\"\u001b[0;36m, line \u001b[0;32m6\u001b[0m\n\u001b[0;31m    def list_of_students():\u001b[0m\n\u001b[0m    ^\u001b[0m\n\u001b[0;31mIndentationError\u001b[0m\u001b[0;31m:\u001b[0m expected an indented block after function definition on line 4\n"
          ]
        }
      ]
    },
    {
      "cell_type": "markdown",
      "source": [
        "# Задание 7\n",
        "\n",
        "\n",
        "**Задача:**\n",
        "\n",
        "Создайте приложение-викторину с командной строкой, которое задает пользователям вопросы по различным темам и отслеживает их результаты.\n",
        "\n",
        "Ключевые особенности:\n",
        "\n",
        "*   Хранение данных о вопросах и ответах на них, а также баллов за каждый вопрос\n",
        "*   Реализуйте функцию для представления вопросов, принятия ответов пользователей и предоставления обратной связи о том, являются ли ответы правильными или неправильными.\n",
        "*  После завершения викторины отобразите общий балл пользователя из числа ответов на вопросы.\n",
        "*  Реализуйте функцию добавления нового вопроса\n",
        "*  Реализуйте функцию перемешивания вопросов, для отображения случайного вопроса\n"
      ],
      "metadata": {
        "id": "iQ8Z-7PYgu1_"
      }
    },
    {
      "cell_type": "code",
      "source": [],
      "metadata": {
        "id": "DhxyYwHwh2V4"
      },
      "execution_count": null,
      "outputs": []
    }
  ]
}