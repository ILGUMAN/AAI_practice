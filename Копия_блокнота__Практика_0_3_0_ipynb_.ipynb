{
  "cells": [
    {
      "cell_type": "markdown",
      "metadata": {
        "id": "phMKaFq3DN13"
      },
      "source": [
        "ФИО"
      ]
    },
    {
      "cell_type": "code",
      "execution_count": null,
      "metadata": {
        "colab": {
          "base_uri": "https://localhost:8080/"
        },
        "id": "3CWpaI7SDK8t",
        "outputId": "b108dc12-d3d3-4456-ae07-440f76a804f6"
      },
      "outputs": [
        {
          "name": "stdout",
          "output_type": "stream",
          "text": [
            "Привет\n"
          ]
        }
      ],
      "source": [
        "print('Суханов Илья Алексеевич')"
      ]
    },
    {
      "cell_type": "markdown",
      "metadata": {
        "id": "jyIy3GOgFOCe"
      },
      "source": [
        "**Во всей практике нельзя применять библиотеки предоставляющие готовые решения!**"
      ]
    },
    {
      "cell_type": "markdown",
      "metadata": {
        "id": "XizmlL1RK2t3"
      },
      "source": [
        "# **Задача 1.**\n"
      ]
    },
    {
      "cell_type": "markdown",
      "metadata": {
        "id": "p0v6KtHTFKSd"
      },
      "source": [
        "\n",
        "\n",
        "Типы данных Напишите программу на Python, которая принимает список чисел в качестве входных данных от пользователя, а затем выводит сумму, среднее значение и максимальное значение из списка.\n",
        "\n",
        "Дано:\n",
        "```\n",
        "1 2 3 4 5 6 7\n",
        "```\n",
        "Вывод:\n",
        "\n",
        "```\n",
        "Сумма чисел: 28\n",
        "Среднее арифм.: 4.0\n",
        "Максимальное значение: 7\n",
        "```\n",
        "\n"
      ]
    },
    {
      "cell_type": "code",
      "execution_count": null,
      "metadata": {
        "colab": {
          "base_uri": "https://localhost:8080/"
        },
        "id": "0e1Virl0FpF6",
        "outputId": "fc98cfda-cfc3-4520-a9c1-90f5b6d3db38"
      },
      "outputs": [
        {
          "name": "stdout",
          "output_type": "stream",
          "text": [
            "Введите числа через пробел:1 2 3 4 5 6\n",
            "Сумма: 21\n",
            "Среднее: 3.5\n",
            "Максимальное: 6\n"
          ]
        }
      ],
      "source": [
        "chisla=input('Введите числа через пробел:')\n",
        "summa=0\n",
        "srednee=0\n",
        "max_znachenie=0\n",
        "VSE_CHISLA=[]\n",
        "for i in chisla.split(' '):\n",
        "    VSE_CHISLA.append(i)\n",
        "for i in VSE_CHISLA:\n",
        "    summa+=int(i)\n",
        "print('Сумма:',summa)\n",
        "print('Среднее:',summa/len(VSE_CHISLA))\n",
        "for i in range(len(VSE_CHISLA)):\n",
        "    if max_znachenie<int(VSE_CHISLA[i]):\n",
        "        max_znachenie=int(VSE_CHISLA[i])\n",
        "print('Максимальное:',max_znachenie)"
      ]
    },
    {
      "cell_type": "markdown",
      "metadata": {
        "id": "uFluc5OSK0NH"
      },
      "source": [
        "# **Задача 2.**"
      ]
    },
    {
      "cell_type": "markdown",
      "metadata": {
        "id": "6T8vg324GG4Z"
      },
      "source": [
        "\n",
        "Напишите программу на Python, которая принимает список слов в качестве входных данных от пользователя, а затем распечатывает список в обратном порядке.\n",
        "\n",
        "Ввод:\n",
        "\n",
        "```\n",
        "апельсин мандарин яблоко\n",
        "```\n",
        "\n",
        "Вывод:\n",
        "\n",
        "```\n",
        "яблоко мандарин апельсин\n",
        "```"
      ]
    },
    {
      "cell_type": "code",
      "execution_count": null,
      "metadata": {
        "colab": {
          "base_uri": "https://localhost:8080/"
        },
        "id": "v3AWj4ufGKox",
        "outputId": "28cab7d2-58a8-4cda-b32f-d40bd3249ef3"
      },
      "outputs": [
        {
          "name": "stdout",
          "output_type": "stream",
          "text": [
            "Введите слова через пробел:a s d f g h\n",
            "h g f d s a\n"
          ]
        }
      ],
      "source": [
        "slova=input('Введите слова через пробел:')\n",
        "VSE_SLOVA=[]\n",
        "for i in slova.split(' '):\n",
        "    VSE_SLOVA.append(i)\n",
        "print(*VSE_SLOVA[::-1])"
      ]
    },
    {
      "cell_type": "markdown",
      "metadata": {
        "id": "D1KkCxtIKxRx"
      },
      "source": [
        "# **Задача 3**"
      ]
    },
    {
      "cell_type": "markdown",
      "metadata": {
        "id": "Yq8Jgb9yHvSi"
      },
      "source": [
        "Простой чат-бот\n",
        "Создайте простого чат-бота, который отвечает на основные запросы пользователей. Программа должна использовать условные выражения для определения намерений пользователя и последующего соответствующего ответа.\n",
        "\n",
        "Чат бот может:\n",
        "\n",
        "- помогать складывать числа\n",
        "- подсказывать фильм, музыку и тд (из заранее созданного списка)\n",
        "- создавать список дел (а также выводить его, обновлять, очищать)\n",
        "\n",
        "Интерфейс чат-бота на ваше усмотрение, это могут быть как заранее определенные команды, так и к примеру вызов команды по номеру\n",
        "\n",
        "*Реализовать без использования функций*\n",
        "\n",
        "Пример:\n",
        "\n",
        "Ввод:\n",
        "\n",
        "```\n",
        "Олег, какую мызыку посоветуешь?\n",
        "```\n",
        "\n",
        "Вывод:\n",
        "\n",
        "```\n",
        "Я бы посоветовал вам: Led Zeppelin Stairway to Heaven\n",
        "```"
      ]
    },
    {
      "cell_type": "code",
      "execution_count": null,
      "metadata": {
        "id": "fmW-tmUtINN9"
      },
      "outputs": [],
      "source": []
    },
    {
      "cell_type": "markdown",
      "metadata": {
        "id": "PHXBfyc6Ko7D"
      },
      "source": [
        "# **Задача 4.**\n"
      ]
    },
    {
      "cell_type": "markdown",
      "metadata": {
        "id": "jnKWeYleI0j6"
      },
      "source": [
        "Камень, ножницы, бумага\n",
        "\n",
        "Создайте игру в Камень, ножницы, бумагу, в которой пользователь может играть против компьютера. Программа должна запросить выбор пользователя, а затем сгенерировать выбор компьютера. Затем программа должна определить победителя на основе правил игры.\n",
        "\n",
        "**Этап 1:**\n",
        "\n",
        "Определение победителя\n",
        "\n",
        "**Этап 2:**\n",
        "  \n",
        "Игра до 3 побед\n",
        "\n",
        "\n",
        "Вввод для \"Этап 1\":\n",
        "\n",
        "```\n",
        "Камень\n",
        "```\n",
        "\n",
        "Вывод:\n",
        "\n",
        "```\n",
        "Компьютер: Ножницы\n",
        "Игрок: Камень\n",
        "Победа: Игрок\n",
        "```"
      ]
    },
    {
      "cell_type": "code",
      "execution_count": null,
      "metadata": {
        "colab": {
          "base_uri": "https://localhost:8080/"
        },
        "id": "ooIPCRe_JHkX",
        "outputId": "7661e60b-bde5-44c9-b676-0c9358ad5971"
      },
      "outputs": [
        {
          "output_type": "stream",
          "name": "stdout",
          "text": [
            "До одной или до трёх побед?\n",
            "1 или 3:3\n",
            "Камень - 1\n",
            "Ножницы - 2\n",
            "Бумага - 3\n",
            "Ваше число:1\n",
            "Число компьютера: 2\n",
            "Победа: Игрок\n",
            "Ваше число:1\n",
            "Число компьютера: 3\n",
            "Победа: Компьютер\n",
            "Ваше число:1\n",
            "Число компьютера: 1\n",
            "Ничья\n",
            "Ваше число:1\n",
            "Число компьютера: 1\n",
            "Ничья\n",
            "Ваше число:1\n",
            "Число компьютера: 3\n",
            "Победа: Компьютер\n",
            "Ваше число:1\n",
            "Число компьютера: 2\n",
            "Победа: Игрок\n",
            "Ваше число:1\n",
            "Число компьютера: 2\n",
            "Победа: Игрок\n"
          ]
        }
      ],
      "source": [
        "print('До одной или до трёх побед?')\n",
        "pobedi=int(input('1 или 3:'))\n",
        "schochik_chelovek=0\n",
        "schochik_komp=0\n",
        "if pobedi==1:\n",
        "  print('Камень - 1')\n",
        "  print('Ножницы - 2')\n",
        "  print('Бумага - 3')\n",
        "  chelovek=int(input('Ваше число:'))\n",
        "  import random\n",
        "  komp=random.randint(1,3)\n",
        "  print('Число компьютера:',komp)\n",
        "  if chelovek==komp:\n",
        "    print('Ничья')\n",
        "  elif chelovek==1 and komp==2:\n",
        "    print('Победа: Игрок')\n",
        "  elif chelovek==1 and komp==3:\n",
        "    print('Победа: Компьютер')\n",
        "  elif chelovek==2 and komp==1:\n",
        "    print('Победа: Компьютер')\n",
        "  elif chelovek==2 and komp==3:\n",
        "    print('Победа: Игрок')\n",
        "  elif chelovek==3 and komp==1:\n",
        "    print('Победа: Игрок')\n",
        "  elif chelovek==3 and komp==2:\n",
        "    print('Победа: Компьютер')\n",
        "elif pobedi==3:\n",
        "  print('Камень - 1')\n",
        "  print('Ножницы - 2')\n",
        "  print('Бумага - 3')\n",
        "  while schochik_chelovek<3 and schochik_komp<3:\n",
        "    chelovek=int(input('Ваше число:'))\n",
        "    import random\n",
        "    komp=random.randint(1,3)\n",
        "    print('Число компьютера:',komp)\n",
        "    if chelovek==komp:\n",
        "      print('Ничья')\n",
        "    elif chelovek==1 and komp==2:\n",
        "      print('Победа: Игрок')\n",
        "      schochik_chelovek+=1\n",
        "    elif chelovek==1 and komp==3:\n",
        "      print('Победа: Компьютер')\n",
        "      schochik_komp+=1\n",
        "    elif chelovek==2 and komp==1:\n",
        "      print('Победа: Компьютер')\n",
        "      schochik_komp+=1\n",
        "    elif chelovek==2 and komp==3:\n",
        "      print('Победа: Игрок')\n",
        "      schochik_chelovek+=1\n",
        "    elif chelovek==3 and komp==1:\n",
        "      print('Победа: Игрок')\n",
        "      schochik_chelovek+=1\n",
        "    elif chelovek==3 and komp==2:\n",
        "      print('Победа: Компьютер')\n",
        "      schochik_komp+=1"
      ]
    },
    {
      "cell_type": "markdown",
      "metadata": {
        "id": "Hg4FJNFbLHQO"
      },
      "source": [
        "# **Задача 6.**"
      ]
    },
    {
      "cell_type": "markdown",
      "metadata": {
        "id": "OHqj3HJuLJgY"
      },
      "source": [
        "Создайте игру \"Палач\" или \"Виселица\", в которой пользователь должен угадать слово, предлагая буквы. Программа должна выбрать случайное слово, а затем разрешить пользователю угадывать буквы. После каждого угадывания программа должна сообщать пользователю, есть ли в слове буква или нет.\n",
        "\n",
        "**Этап 1**\n",
        "Создать саму игру\n",
        "\n",
        "**Этап 2:**\n",
        "Ввести подсчет количества очков и ограничения на попытки"
      ]
    },
    {
      "cell_type": "code",
      "execution_count": null,
      "metadata": {
        "id": "0N2zCYwVLiIw"
      },
      "outputs": [],
      "source": [
        "slova=['шмель','пирамида','мир']\n",
        "import random\n",
        "nomer_slova=random.randint(1,3)\n",
        "if nomer_slova==1:\n",
        "  print('_ _ _ _ _')\n",
        "if nomer_slova==2:\n",
        "  print('_ _ _ _ _ _ _ _')\n",
        "if nomer_slova==3:\n",
        "  print('_ _ _')\n",
        "if nomer_slova==1:\n",
        "  for i in range(10):\n",
        "    bukva=input('Введите букву:')\n",
        "    if bukva in 'шмель':\n",
        "      if bukva=='ш':\n",
        "        print('Это первая буква')\n",
        "      elif bukva=='м':\n",
        "        print('Это втарая буква')\n",
        "      elif bukva=='е':\n",
        "        print('Это третья буква')\n",
        "      elif bukva=='л':\n",
        "        print('Это четвёртая буква')\n",
        "      elif bukva=='ь':\n",
        "        print('Это пятая буква')\n",
        "    else:\n",
        "      print('Этой буквы нет в слове')\n"
      ]
    },
    {
      "cell_type": "markdown",
      "metadata": {
        "id": "w0x3QFGzKtDD"
      },
      "source": [
        "# **Задача 7.**\n"
      ]
    },
    {
      "cell_type": "markdown",
      "metadata": {
        "id": "QqZArcpHJxVj"
      },
      "source": [
        "\n",
        "**Цифра на определенном месте:**\n",
        "\n",
        "Последовательно записан натуральный ряд чисел.\n",
        "\n",
        "Какая цифра стоит в N позиции\n",
        "\n",
        "\n",
        "Вввод:\n",
        "\n",
        "```\n",
        "Введите номер позиции: 1234567890\n",
        "```\n",
        "\n",
        "Вывод:\n",
        "\n",
        "```\n",
        "8\n",
        "```"
      ]
    },
    {
      "cell_type": "code",
      "execution_count": null,
      "metadata": {
        "colab": {
          "base_uri": "https://localhost:8080/"
        },
        "id": "LwjYwBGcKiJ9",
        "outputId": "286498d7-38da-422b-a6e4-fa7db355e46a"
      },
      "outputs": [
        {
          "name": "stdout",
          "output_type": "stream",
          "text": [
            "Введите количество чисел:5\n",
            "Введите число:1\n",
            "Введите число:12\n",
            "Введите число:134\n",
            "Введите число:345678\n",
            "Введите число:64\n",
            "Ряд чисел: 1 12 134 345678 64\n",
            "Введите позицию числа:10\n",
            "Ваше число: 6\n"
          ]
        }
      ],
      "source": [
        "chisla=int(input('Введите количество чисел:'))\n",
        "NUMBERS=[]\n",
        "\n",
        "for i in range(chisla):\n",
        "    number=input('Введите число:')\n",
        "    NUMBERS.append(number)\n",
        "\n",
        "stroka=''\n",
        "for i in NUMBERS:\n",
        "    stroka+=i\n",
        "\n",
        "print('Ряд чисел:',*NUMBERS)\n",
        "\n",
        "pozicia=input('Введите позицию числа:')\n",
        "\n",
        "if ',' in pozicia:\n",
        "    pozicia=float(pozicia.replace(',','.'))\n",
        "elif '.' in pozicia:\n",
        "    pozicia=float(pozicia)\n",
        "else:\n",
        "    pozicia=int(pozicia)\n",
        "\n",
        "if pozicia > len(stroka):\n",
        "    print('Слишком большая позиция!')\n",
        "elif pozicia <= 0:\n",
        "    print('Слишком маленькая позиция!')\n",
        "elif isinstance(pozicia, float):\n",
        "    print('Позиция не целое число!')\n",
        "else:\n",
        "    print('Ваше число:',stroka[pozicia-1:pozicia])"
      ]
    }
  ],
  "metadata": {
    "colab": {
      "provenance": []
    },
    "kernelspec": {
      "display_name": "Python 3",
      "name": "python3"
    },
    "language_info": {
      "name": "python"
    }
  },
  "nbformat": 4,
  "nbformat_minor": 0
}