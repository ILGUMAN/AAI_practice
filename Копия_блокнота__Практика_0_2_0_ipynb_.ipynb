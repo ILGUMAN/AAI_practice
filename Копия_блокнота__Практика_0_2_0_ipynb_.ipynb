{
  "nbformat": 4,
  "nbformat_minor": 0,
  "metadata": {
    "colab": {
      "provenance": []
    },
    "kernelspec": {
      "name": "python3",
      "display_name": "Python 3"
    },
    "language_info": {
      "name": "python"
    }
  },
  "cells": [
    {
      "cell_type": "markdown",
      "source": [
        "Напишите свое ФИО:"
      ],
      "metadata": {
        "id": "0PnTh-ajEoEb"
      }
    },
    {
      "cell_type": "code",
      "source": [],
      "metadata": {
        "id": "mUDAeT-Uce8a"
      },
      "execution_count": null,
      "outputs": []
    },
    {
      "cell_type": "code",
      "source": [
        "'Суханов Илья Алексеевич'"
      ],
      "metadata": {
        "id": "QyMVPjzWErHw",
        "colab": {
          "base_uri": "https://localhost:8080/",
          "height": 36
        },
        "outputId": "922d7d8a-e2f5-4bee-8241-e7501f4107aa"
      },
      "execution_count": null,
      "outputs": [
        {
          "output_type": "execute_result",
          "data": {
            "text/plain": [
              "'Суханов Илья Алексеевич'"
            ],
            "application/vnd.google.colaboratory.intrinsic+json": {
              "type": "string"
            }
          },
          "metadata": {},
          "execution_count": 4
        }
      ]
    },
    {
      "cell_type": "markdown",
      "source": [
        "# Основы"
      ],
      "metadata": {
        "id": "HPwKiIA4EKO-"
      }
    },
    {
      "cell_type": "markdown",
      "source": [
        "Задание 1: Напиши программу, выводящую на экран сообщение \"Привет, мир!\""
      ],
      "metadata": {
        "id": "8po5IidFERZ8"
      }
    },
    {
      "cell_type": "code",
      "execution_count": null,
      "metadata": {
        "id": "sBRjlCVLEIQr",
        "colab": {
          "base_uri": "https://localhost:8080/"
        },
        "outputId": "034a1a1e-9376-41b4-c03c-972e9c5cc4b3"
      },
      "outputs": [
        {
          "output_type": "stream",
          "name": "stdout",
          "text": [
            "Привет, мир!\n"
          ]
        }
      ],
      "source": [
        "print('Привет, мир!')"
      ]
    },
    {
      "cell_type": "markdown",
      "source": [
        "Задание 2: Напиши программу которая запрашивает имя пользователя и выводит сообщение:\n",
        "\n",
        "`Привет, <Имя пользователя>`"
      ],
      "metadata": {
        "id": "pUQIIo94EYLg"
      }
    },
    {
      "cell_type": "code",
      "source": [
        "user_name=input('Введите своё имя:')\n",
        "print('Привет,',user_name)"
      ],
      "metadata": {
        "id": "nNwHKmAnEinH",
        "colab": {
          "base_uri": "https://localhost:8080/"
        },
        "outputId": "4bfcddfe-5c7e-47bf-8d9b-05349a21e53b"
      },
      "execution_count": null,
      "outputs": [
        {
          "output_type": "stream",
          "name": "stdout",
          "text": [
            "Введите своё имя:Илья\n",
            "Привет, Илья\n"
          ]
        }
      ]
    },
    {
      "cell_type": "markdown",
      "source": [
        "Задание 3: Напиши программу определяющую является ли число четным или нечетным:\n",
        "\n",
        "Пример:\n",
        "\n",
        "`Введите число:` 2\n",
        "\n",
        "`Ваше число четное!`"
      ],
      "metadata": {
        "id": "SAUm9W6_Etkh"
      }
    },
    {
      "cell_type": "code",
      "source": [
        "number=int(input('Введите число:'))\n",
        "if number%2==0:\n",
        "  print('Ваше число чётное!')\n",
        "else:\n",
        "  print('Ваше число не чётное!')"
      ],
      "metadata": {
        "id": "LXv7AIN1E4on",
        "colab": {
          "base_uri": "https://localhost:8080/"
        },
        "outputId": "4f32f2d0-0d42-448d-e0a0-c2b9db38697e"
      },
      "execution_count": null,
      "outputs": [
        {
          "output_type": "stream",
          "name": "stdout",
          "text": [
            "Введите число:2\n",
            "Ваше число чётное!\n"
          ]
        }
      ]
    },
    {
      "cell_type": "markdown",
      "source": [
        "Задание 4: Напишите программу которая запрашивает длинну и ширину прямоугольника и выводит его площадь:\n",
        "\n",
        "\n",
        "\n",
        "`Введите длинну прямоугольника:`\n",
        "\n",
        "`Введите ширину прямоугольника:`\n",
        "\n",
        "`Площадь прямоугольника: `\n",
        "\n"
      ],
      "metadata": {
        "id": "OW1Y5KyUE_n9"
      }
    },
    {
      "cell_type": "code",
      "source": [
        "dlina=int(input('Введите длинну прямоугольника:'))\n",
        "shirina=int(input('Введите ширину прямоугольника:'))\n",
        "ploshad=dlina*shirina\n",
        "print(ploshad)"
      ],
      "metadata": {
        "id": "Bu5iawknFbXP",
        "colab": {
          "base_uri": "https://localhost:8080/"
        },
        "outputId": "cffa7856-7a19-4d3d-a7e7-b812437f9f70"
      },
      "execution_count": null,
      "outputs": [
        {
          "output_type": "stream",
          "name": "stdout",
          "text": [
            "Введите длинну прямоугольника:2\n",
            "Введите ширину прямоугольника:3\n",
            "6\n"
          ]
        }
      ]
    },
    {
      "cell_type": "markdown",
      "source": [
        "Задание 5: Напишите программу, которая будет вычислять среднее арифметическое введенных чисел"
      ],
      "metadata": {
        "id": "xj8_QNLsFfLw"
      }
    },
    {
      "cell_type": "code",
      "source": [
        "numbers=int(input('Введите количество чисел:'))\n",
        "summa=0\n",
        "for i in range(numbers):\n",
        "  chislo=int(input('Введите число:'))\n",
        "  summa+=chislo\n",
        "srednee=summa/numbers\n",
        "print('Среднеарифметическое чисел:',srednee)"
      ],
      "metadata": {
        "id": "omumX59JFoKw",
        "colab": {
          "base_uri": "https://localhost:8080/"
        },
        "outputId": "c436f563-6df9-4b95-aa15-e5e502a60183"
      },
      "execution_count": null,
      "outputs": [
        {
          "output_type": "stream",
          "name": "stdout",
          "text": [
            "Введите количество чисел:5\n",
            "Введите число:1\n",
            "Введите число:2\n",
            "Введите число:3\n",
            "Введите число:4\n",
            "Введите число:5\n",
            "Среднеарифметическое чисел: 3.0\n"
          ]
        }
      ]
    },
    {
      "cell_type": "markdown",
      "source": [
        "# Практика 0.2.1"
      ],
      "metadata": {
        "id": "XWBhGpdEFo-U"
      }
    },
    {
      "cell_type": "markdown",
      "source": [
        "**Шахматы**\n",
        "\n",
        "Даны стартовые и конечные координаты, а также фигура\n",
        "\n",
        "Необходимо определить, может ли заданная фигура так ходить?"
      ],
      "metadata": {
        "id": "9Lw9odpqFwtn"
      }
    },
    {
      "cell_type": "code",
      "source": [],
      "metadata": {
        "id": "9IICo0p3F07P"
      },
      "execution_count": null,
      "outputs": []
    },
    {
      "cell_type": "markdown",
      "source": [
        "# Практика 0.2.2\n",
        "\n",
        "**Цифра на определенном месте:**\n",
        "\n",
        "Последовательно записан натуральный ряд чисел.\n",
        "\n",
        "Какая цифра стоит в N позиции"
      ],
      "metadata": {
        "id": "wI5bLNpHGDmO"
      }
    },
    {
      "cell_type": "code",
      "source": [
        "chisla=int(input('Введите количество чисел:'))\n",
        "NUMBERS=[]\n",
        "\n",
        "for i in range(chisla):\n",
        "    number=input('Введите число:')\n",
        "    NUMBERS.append(number)\n",
        "\n",
        "stroka=''\n",
        "for i in NUMBERS:\n",
        "    stroka+=i\n",
        "\n",
        "print('Ряд чисел:',*NUMBERS)\n",
        "\n",
        "pozicia=input('Введите позицию числа:')\n",
        "\n",
        "if ',' in pozicia:\n",
        "    pozicia=float(pozicia.replace(',','.'))\n",
        "elif '.' in pozicia:\n",
        "    pozicia=float(pozicia)\n",
        "else:\n",
        "    pozicia=int(pozicia)\n",
        "\n",
        "if pozicia > len(stroka):\n",
        "    print('Слишком большая позиция!')\n",
        "elif pozicia <= 0:\n",
        "    print('Слишком маленькая позиция!')\n",
        "elif isinstance(pozicia, float):\n",
        "    print('Позиция не целое число!')\n",
        "else:\n",
        "    print('Ваше число:',stroka[pozicia-1:pozicia])"
      ],
      "metadata": {
        "id": "XLm_zFGzGNsU",
        "colab": {
          "base_uri": "https://localhost:8080/"
        },
        "outputId": "23af29ac-3122-4f1d-b0ef-2574c6e39bd2"
      },
      "execution_count": null,
      "outputs": [
        {
          "output_type": "stream",
          "name": "stdout",
          "text": [
            "Введите количество чисел:4\n",
            "Введите число:1\n",
            "Введите число:2\n",
            "Введите число:1234\n",
            "Введите число:678\n",
            "Ряд чисел: 1 2 1234 678\n",
            "Введите позицию числа:6\n",
            "Ваше число: 4\n"
          ]
        }
      ]
    },
    {
      "cell_type": "code",
      "source": [],
      "metadata": {
        "id": "zRsHKlSnrFre"
      },
      "execution_count": null,
      "outputs": []
    }
  ]
}