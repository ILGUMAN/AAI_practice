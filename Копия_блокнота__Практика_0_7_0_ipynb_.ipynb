{
  "nbformat": 4,
  "nbformat_minor": 0,
  "metadata": {
    "colab": {
      "provenance": []
    },
    "kernelspec": {
      "name": "python3",
      "display_name": "Python 3"
    },
    "language_info": {
      "name": "python"
    }
  },
  "cells": [
    {
      "cell_type": "code",
      "source": [],
      "metadata": {
        "id": "HboMqgQA_jg7",
        "outputId": "20d4f94f-58ad-4ef4-fe09-a807ce7a9948",
        "colab": {
          "base_uri": "https://localhost:8080/",
          "height": 111
        }
      },
      "execution_count": null,
      "outputs": [
        {
          "output_type": "error",
          "ename": "SyntaxError",
          "evalue": "invalid decimal literal (<ipython-input-1-834a81dfd3d0>, line 1)",
          "traceback": [
            "\u001b[0;36m  File \u001b[0;32m\"<ipython-input-1-834a81dfd3d0>\"\u001b[0;36m, line \u001b[0;32m1\u001b[0m\n\u001b[0;31m    https://drive.google.com/file/d/16Cm2tgrpuDH8eIdxdSYyOsfDPqnJ3byd/view?usp=sharing\u001b[0m\n\u001b[0m                                     ^\u001b[0m\n\u001b[0;31mSyntaxError\u001b[0m\u001b[0;31m:\u001b[0m invalid decimal literal\n"
          ]
        }
      ]
    },
    {
      "cell_type": "markdown",
      "source": [
        "ФИО:"
      ],
      "metadata": {
        "id": "ZLVI_WIcuT56"
      }
    },
    {
      "cell_type": "code",
      "source": [
        "'Суханов Илья Алексеевич'"
      ],
      "metadata": {
        "id": "3AfG_Tal0P2S",
        "colab": {
          "base_uri": "https://localhost:8080/",
          "height": 35
        },
        "outputId": "fc4b2ed3-a994-46aa-8c80-76dbcea0f2bf"
      },
      "execution_count": null,
      "outputs": [
        {
          "output_type": "execute_result",
          "data": {
            "text/plain": [
              "'Суханов Илья Алексеевич'"
            ],
            "application/vnd.google.colaboratory.intrinsic+json": {
              "type": "string"
            }
          },
          "metadata": {},
          "execution_count": 1
        }
      ]
    },
    {
      "cell_type": "markdown",
      "source": [
        "## Задание 1. HTTP-запросы, ответы и погода"
      ],
      "metadata": {
        "id": "Gtm1UjYgDlY7"
      }
    },
    {
      "cell_type": "markdown",
      "source": [
        "Описание:\n",
        "\n",
        "Напишите HTTP-запрос для получения информации о погоде в введенном городе из API.\n",
        "\n",
        "Можно использовать API: https://open-meteo.com/. Используйте метод GET.\n",
        "\n",
        "\n",
        "Ввод\n",
        "```\n",
        "56.50, 60.35\n",
        "```\n",
        "\n",
        "Вывод\n",
        "```\n",
        "Сегодня (1.11) погода 20 ◦С, нет осадков, туман\n",
        "```\n",
        "\n",
        "\n",
        "\n"
      ],
      "metadata": {
        "id": "FtjnLNIKzfMZ"
      }
    },
    {
      "cell_type": "code",
      "source": [
        "pip install requests"
      ],
      "metadata": {
        "colab": {
          "base_uri": "https://localhost:8080/"
        },
        "id": "K3njbgsuy0E9",
        "outputId": "d9a0c8a0-ea33-4086-8dab-94ec17484018"
      },
      "execution_count": null,
      "outputs": [
        {
          "output_type": "stream",
          "name": "stdout",
          "text": [
            "Requirement already satisfied: requests in /usr/local/lib/python3.10/dist-packages (2.32.3)\n",
            "Requirement already satisfied: charset-normalizer<4,>=2 in /usr/local/lib/python3.10/dist-packages (from requests) (3.4.0)\n",
            "Requirement already satisfied: idna<4,>=2.5 in /usr/local/lib/python3.10/dist-packages (from requests) (3.10)\n",
            "Requirement already satisfied: urllib3<3,>=1.21.1 in /usr/local/lib/python3.10/dist-packages (from requests) (2.2.3)\n",
            "Requirement already satisfied: certifi>=2017.4.17 in /usr/local/lib/python3.10/dist-packages (from requests) (2024.8.30)\n"
          ]
        }
      ]
    },
    {
      "cell_type": "code",
      "source": [
        "import requests\n",
        "\n",
        "data = input('').split(', ')\n",
        "url = f'https://api.open-meteo.com/v1/forecast?latitude={data[0]}&longitude={data[1]}&current=temperature_2m,precipitation,weather_code'\n",
        "response = requests.get(url)\n",
        "status_code = response.status_code\n",
        "json = response.json()\n",
        "\n",
        "date = json['current']['time']\n",
        "temperature = json['current']['temperature_2m']\n",
        "precipitation = json['current']['precipitation']\n",
        "weather = json['current']['weather_code']\n",
        "\n",
        "if precipitation == 0:\n",
        "  precipitation = 'нет осадков'\n",
        "else: precipitation == 'осадки есть'\n",
        "\n",
        "if weather == 45 or weather == 48:\n",
        "  weather = 'туман'\n",
        "else:\n",
        "  weather = 'нет тумана'\n",
        "\n",
        "print('Сегодня (' + str(date)[8:10] + '.' + str(date)[5:7] + ') погода', str(temperature) + ' ◦С,', str(precipitation) + ',', weather)"
      ],
      "metadata": {
        "id": "5Mbs40_buVRV",
        "colab": {
          "base_uri": "https://localhost:8080/"
        },
        "outputId": "8ee13106-be45-4299-d53a-71a93cb2f97a"
      },
      "execution_count": null,
      "outputs": [
        {
          "output_type": "stream",
          "name": "stdout",
          "text": [
            "56.24, 61.56\n",
            "Сегодня (01.11) погода 0.9 ◦С, нет осадков, нет тумана\n"
          ]
        }
      ]
    },
    {
      "cell_type": "markdown",
      "source": [
        "## Задание 2. HTTP-запросы, ответы и покемоны"
      ],
      "metadata": {
        "id": "FYjU9WmVDoGs"
      }
    },
    {
      "cell_type": "markdown",
      "source": [
        "**Описание:**\n",
        "\n",
        "\n",
        "Создайте код программы, которая будет взаимодействовать с API, со следующим функионалом:\n",
        "\n",
        "1. Используя метод GET, отправьте запрос на endpoint /pokemon, чтобы получить список первых 20 покемонов\n",
        "\n",
        "2. Извлеките имена покемонов из ответа и выведите их списком\n",
        "\n",
        "3. Введите с помощью input() название одного из покемонов\n",
        "\n",
        "\n",
        "```\n",
        "Имя покемона: clefairy\n",
        "```\n",
        "\n",
        "\n",
        "\n",
        "4. Отправьте GET-запрос, чтобы получить полную информацию о выбранном покемоне\n",
        "\n",
        "5. Извлеките и выведите следующие данные о введенном покемоне:\n",
        "\n",
        "     • Имя\n",
        "\n",
        "     • Тип\n",
        "\n",
        "     • Вес\n",
        "\n",
        "     • Рост\n",
        "\n",
        "     • Способности\n",
        "\n",
        "Используйте PokéAPI (https://pokeapi.co/), который предоставляет информацию о покемонах, их характеристиках, типах и другую информацию."
      ],
      "metadata": {
        "id": "oZ1guEbl0PZm"
      }
    },
    {
      "cell_type": "code",
      "source": [
        "pip install requests"
      ],
      "metadata": {
        "colab": {
          "base_uri": "https://localhost:8080/"
        },
        "id": "lr7et8z6B-7R",
        "outputId": "baed4aee-51e3-4766-f916-d8dbfd53c6c3"
      },
      "execution_count": null,
      "outputs": [
        {
          "output_type": "stream",
          "name": "stdout",
          "text": [
            "Requirement already satisfied: requests in /usr/local/lib/python3.10/dist-packages (2.32.3)\n",
            "Requirement already satisfied: charset-normalizer<4,>=2 in /usr/local/lib/python3.10/dist-packages (from requests) (3.4.0)\n",
            "Requirement already satisfied: idna<4,>=2.5 in /usr/local/lib/python3.10/dist-packages (from requests) (3.10)\n",
            "Requirement already satisfied: urllib3<3,>=1.21.1 in /usr/local/lib/python3.10/dist-packages (from requests) (2.2.3)\n",
            "Requirement already satisfied: certifi>=2017.4.17 in /usr/local/lib/python3.10/dist-packages (from requests) (2024.8.30)\n"
          ]
        }
      ]
    },
    {
      "cell_type": "code",
      "source": [
        "import requests\n",
        "\n",
        "url = 'https://pokeapi.co/api/v2/pokemon/'\n",
        "response = requests.get(url)\n",
        "\n",
        "json = response.json()\n",
        "\n",
        "pokemons = []\n",
        "\n",
        "for element in json['results']:\n",
        "  for key, value in element.items():\n",
        "    if key == 'name':\n",
        "      print(value)\n",
        "      pokemons.append(value)\n",
        "\n",
        "pokemon_name = input('Имя покемона:')\n",
        "\n",
        "while True:\n",
        "  if pokemon_name not in pokemons:\n",
        "    print('Такого имени нет в списке')\n",
        "    pokemon_name = input('Имя покемона:')\n",
        "  else:\n",
        "    break\n",
        "\n",
        "for element in json['results']:\n",
        "  if element['name'] == pokemon_name:\n",
        "    pokemon_url = element['url']\n",
        "\n",
        "pokemon_data = requests.get(pokemon_url)\n",
        "pokemon_abilities = []\n",
        "pokemon_types = []\n",
        "\n",
        "for element in pokemon_data.json()['abilities']:\n",
        "  pokemon_abilities.append(element['ability']['name'])\n",
        "\n",
        "for element in pokemon_data.json()['types']:\n",
        "  pokemon_types.append(element['type']['name'])\n",
        "\n",
        "print('Имя:', pokemon_name)\n",
        "print('Тип:', *pokemon_types)\n",
        "print('Вес:', pokemon_data.json()['weight'])\n",
        "print('Рост:', pokemon_data.json()['height'])\n",
        "print('Способности:', *pokemon_abilities)"
      ],
      "metadata": {
        "id": "JkFmivjp25NL",
        "colab": {
          "base_uri": "https://localhost:8080/"
        },
        "outputId": "3cab0dda-99c6-4d99-fdb4-59c7336a15d1"
      },
      "execution_count": null,
      "outputs": [
        {
          "output_type": "stream",
          "name": "stdout",
          "text": [
            "bulbasaur\n",
            "ivysaur\n",
            "venusaur\n",
            "charmander\n",
            "charmeleon\n",
            "charizard\n",
            "squirtle\n",
            "wartortle\n",
            "blastoise\n",
            "caterpie\n",
            "metapod\n",
            "butterfree\n",
            "weedle\n",
            "kakuna\n",
            "beedrill\n",
            "pidgey\n",
            "pidgeotto\n",
            "pidgeot\n",
            "rattata\n",
            "raticate\n",
            "Имя покемона:kakuna\n",
            "Имя: kakuna\n",
            "Тип: bug poison\n",
            "Вес: 100\n",
            "Рост: 6\n",
            "Способности: shed-skin\n"
          ]
        }
      ]
    },
    {
      "cell_type": "markdown",
      "source": [
        "## Задание 3. HTTP-запросы, ответы и посты"
      ],
      "metadata": {
        "id": "Ci07uZdADue9"
      }
    },
    {
      "cell_type": "markdown",
      "source": [
        "**Описание:**\n",
        "\n",
        "Создайте программу, которая будет взаимодействовать с JSONPlaceholder API, реализуя следующие функции:\n",
        "\n",
        "1. Реализуйте функцию, которая выполняет GET-запрос к https://jsonplaceholder.typicode.com/posts и возвращает список постов в формате JSON\n",
        "\n",
        "2. Реализуйте функцию, котороая получает вводимое ID поста, выполняет GET-запрос по ID и возвращает данные поста в формате JSON\n",
        "\n",
        "3. Реализуйте функцию, которая выполняет обработку JSON из пункта 2 и выводит всю важную информацию в консоль"
      ],
      "metadata": {
        "id": "h194KTer1-B3"
      }
    },
    {
      "cell_type": "code",
      "source": [
        "pip install requests"
      ],
      "metadata": {
        "colab": {
          "base_uri": "https://localhost:8080/"
        },
        "id": "UQ_UXrARACv6",
        "outputId": "daad0aba-9fb7-4698-f315-397b6d8add5b"
      },
      "execution_count": null,
      "outputs": [
        {
          "output_type": "stream",
          "name": "stdout",
          "text": [
            "Requirement already satisfied: requests in /usr/local/lib/python3.10/dist-packages (2.32.3)\n",
            "Requirement already satisfied: charset-normalizer<4,>=2 in /usr/local/lib/python3.10/dist-packages (from requests) (3.4.0)\n",
            "Requirement already satisfied: idna<4,>=2.5 in /usr/local/lib/python3.10/dist-packages (from requests) (3.10)\n",
            "Requirement already satisfied: urllib3<3,>=1.21.1 in /usr/local/lib/python3.10/dist-packages (from requests) (2.2.3)\n",
            "Requirement already satisfied: certifi>=2017.4.17 in /usr/local/lib/python3.10/dist-packages (from requests) (2024.8.30)\n"
          ]
        }
      ]
    },
    {
      "cell_type": "code",
      "source": [
        "import requests\n",
        "\n",
        "def get_posts():\n",
        "    url = \"https://jsonplaceholder.typicode.com/posts\"\n",
        "    response = requests.get(url)\n",
        "    return response.json()\n",
        "\n",
        "\n",
        "def get_id(id):\n",
        "    url = f\"https://jsonplaceholder.typicode.com/posts/{id}\"\n",
        "    response = requests.get(url)\n",
        "    return response.json()\n",
        "\n",
        "\n",
        "def print_post_info(post):\n",
        "    print(\"ID поста:\", post[\"id\"])\n",
        "    print(\"Заголовок:\", post[\"title\"])\n",
        "    print(\"Текст:\", post[\"body\"])\n",
        "\n",
        "\n",
        "id_input = int(input(\"Введите ID поста: \"))\n",
        "post = get_id(id_input)\n",
        "print_post_info(post)"
      ],
      "metadata": {
        "id": "YANQx4o258Zn",
        "colab": {
          "base_uri": "https://localhost:8080/"
        },
        "outputId": "39da61d2-ac2b-484b-e201-881ab0576d88"
      },
      "execution_count": null,
      "outputs": [
        {
          "output_type": "stream",
          "name": "stdout",
          "text": [
            "Введите ID поста: 1\n",
            "ID поста: 1\n",
            "Заголовок: sunt aut facere repellat provident occaecati excepturi optio reprehenderit\n",
            "Текст: quia et suscipit\n",
            "suscipit recusandae consequuntur expedita et cum\n",
            "reprehenderit molestiae ut ut quas totam\n",
            "nostrum rerum est autem sunt rem eveniet architecto\n"
          ]
        }
      ]
    },
    {
      "cell_type": "markdown",
      "source": [
        "## Задание 4. HTTP-запросы, ответы и работа с постами"
      ],
      "metadata": {
        "id": "rtwepQvJDy9N"
      }
    },
    {
      "cell_type": "markdown",
      "source": [
        "**Описание**\n",
        "\n",
        "Создайте программу, которая будет взаимодействовать с JSONPlaceholder API (из предыдущего задания), реализуя новые функции:\n",
        "\n",
        "1. Реализуйте функцию, которая принимает заголовок, содержимое и ID пользователя (информация вводится с помощью input()), выполняет POST-запрос для создания нового поста и возвращает информацию о созданном посте в формате JSON\n",
        "\n",
        "\n",
        "```\n",
        "Заголовок: Новый пост\n",
        "Содержимое поста: Тут должно находиться содержимое нового поста...\n",
        "ID пользователя: 10\n",
        "```\n",
        "\n",
        "\n",
        "\n",
        "2. Реализуйте функцию, которая принимает ID поста, новый заголовок и новое содержимое, выполняет PUT-запрос и возвращает обновлённый пост в формате JSON\n",
        "\n",
        "3. Реализуйте функцию, которая принимает ID поста, выполняет DELETE-запрос и возвращает статус-код ответа"
      ],
      "metadata": {
        "id": "4MjiaxDM58ta"
      }
    },
    {
      "cell_type": "code",
      "source": [
        "pip install requests"
      ],
      "metadata": {
        "colab": {
          "base_uri": "https://localhost:8080/"
        },
        "id": "MyvXFFlY7sZP",
        "outputId": "223daf8a-0462-4276-8b82-115470add466"
      },
      "execution_count": null,
      "outputs": [
        {
          "output_type": "stream",
          "name": "stdout",
          "text": [
            "Requirement already satisfied: requests in /usr/local/lib/python3.10/dist-packages (2.32.3)\n",
            "Requirement already satisfied: charset-normalizer<4,>=2 in /usr/local/lib/python3.10/dist-packages (from requests) (3.4.0)\n",
            "Requirement already satisfied: idna<4,>=2.5 in /usr/local/lib/python3.10/dist-packages (from requests) (3.10)\n",
            "Requirement already satisfied: urllib3<3,>=1.21.1 in /usr/local/lib/python3.10/dist-packages (from requests) (2.2.3)\n",
            "Requirement already satisfied: certifi>=2017.4.17 in /usr/local/lib/python3.10/dist-packages (from requests) (2024.8.30)\n"
          ]
        }
      ]
    },
    {
      "cell_type": "code",
      "source": [
        "import requests\n",
        "\n",
        "title = input('Заголовок:')\n",
        "body = input('Содержание:')\n",
        "user_id = input('ID пользователя:')\n",
        "\n",
        "post_id_upd = input('ID обновляемого поста:')\n",
        "new_title = input('Новый заголовок:')\n",
        "new_body = input('Новое содержание:')\n",
        "\n",
        "post_id_del = input('ID удаляемого поста:')\n",
        "\n",
        "def create_post(title, body, user_id):\n",
        "    url = 'https://jsonplaceholder.typicode.com/posts'\n",
        "    data = {'title': title, 'body': body, 'userId': user_id}\n",
        "\n",
        "    response = requests.post(url, json = data)\n",
        "\n",
        "    return response.json()\n",
        "\n",
        "\n",
        "def update_post(post_id_upd, new_title, new_body):\n",
        "    url = f'https://jsonplaceholder.typicode.com/posts/{post_id_upd}'\n",
        "    data = {'title': new_title, 'body': new_body}\n",
        "\n",
        "    response = requests.put(url, json = data)\n",
        "\n",
        "    return response.json()\n",
        "\n",
        "\n",
        "def delete_post(post_id_del):\n",
        "    url = f'https://jsonplaceholder.typicode.com/posts/{post_id_del}'\n",
        "\n",
        "    response = requests.delete(url)\n",
        "    status_code = response.status_code\n",
        "\n",
        "    return status_code\n",
        "\n",
        "\n",
        "print(create_post(title, body, user_id))\n",
        "print(update_post(post_id, new_title, new_body))\n",
        "print(delete_post(post_id_del))"
      ],
      "metadata": {
        "id": "jZUIdwq96DNl",
        "colab": {
          "base_uri": "https://localhost:8080/"
        },
        "outputId": "58750646-cd47-4178-8d2f-ac5aa8baa085"
      },
      "execution_count": null,
      "outputs": [
        {
          "output_type": "stream",
          "name": "stdout",
          "text": [
            "Заголовок:q\n",
            "Содержание:q\n",
            "ID пользователя:1\n",
            "ID обновляемого поста:100\n",
            "Новый заголовок:s\n",
            "Новое содержание:s\n",
            "ID удаляемого поста:99\n",
            "{'title': 'q', 'body': 'q', 'userId': '1', 'id': 101}\n",
            "{'title': 's', 'body': 's', 'id': 100}\n",
            "200\n"
          ]
        }
      ]
    },
    {
      "cell_type": "markdown",
      "source": [
        "## Задание 5. HTTP-запросы, ответы и пёсики"
      ],
      "metadata": {
        "id": "0UoRc9vOD3XT"
      }
    },
    {
      "cell_type": "markdown",
      "source": [
        "**Описание**\n",
        "\n",
        "Создайте программу, которая будет взаимодействовать с Dog API, которая позволит получать список пород собак, вводить несколько пород и получать их фотогрфии.\n",
        "\n",
        "Этапы:\n",
        "\n",
        "1. Создайте функцию, которая использует метод GET и возвращает список всех пород собак в формате нумерованного списка\n",
        "\n",
        "2. Реализуйте возможность ввода нескольких пород собак через запятую\n",
        "\n",
        "\n",
        "```\n",
        "african, chow, dingo\n",
        "```\n",
        "\n",
        "\n",
        "\n",
        "3. Создание функции, которая реализует запрос, возвращает и выводит изображениия собак, породы которых были введены до этого\n",
        "\n",
        "\n",
        "Используйте Dog API (https://dog.ceo/dog-api/), который предоставляет информацию о породах собак и их изображения.\n"
      ],
      "metadata": {
        "id": "y0EyPsFQ6mSZ"
      }
    },
    {
      "cell_type": "code",
      "source": [
        "pip install requests"
      ],
      "metadata": {
        "colab": {
          "base_uri": "https://localhost:8080/"
        },
        "id": "1OcmUsHNS03-",
        "outputId": "ed0f9644-15ac-4036-fe55-515503db47b5"
      },
      "execution_count": null,
      "outputs": [
        {
          "output_type": "stream",
          "name": "stdout",
          "text": [
            "Requirement already satisfied: requests in /usr/local/lib/python3.10/dist-packages (2.32.3)\n",
            "Requirement already satisfied: charset-normalizer<4,>=2 in /usr/local/lib/python3.10/dist-packages (from requests) (3.4.0)\n",
            "Requirement already satisfied: idna<4,>=2.5 in /usr/local/lib/python3.10/dist-packages (from requests) (3.10)\n",
            "Requirement already satisfied: urllib3<3,>=1.21.1 in /usr/local/lib/python3.10/dist-packages (from requests) (2.2.3)\n",
            "Requirement already satisfied: certifi>=2017.4.17 in /usr/local/lib/python3.10/dist-packages (from requests) (2024.8.30)\n"
          ]
        }
      ]
    },
    {
      "cell_type": "code",
      "source": [
        "import requests\n",
        "from IPython.display import Image, display\n",
        "\n",
        "count = 1\n",
        "ALL_BREEDS_LIST = []\n",
        "\n",
        "def all_breeds_list():\n",
        "  url = 'https://dog.ceo/api/breeds/list/all'\n",
        "\n",
        "  response = requests.get(url)\n",
        "\n",
        "  return response.json()\n",
        "\n",
        "\n",
        "for breed, sub_breed in all_breeds_list()['message'].items():\n",
        "  if sub_breed == []:\n",
        "    ALL_BREEDS_LIST.append(breed)\n",
        "  else:\n",
        "    for sub_breed_name in sub_breed:\n",
        "      ALL_BREEDS_LIST.append(str(sub_breed_name) + ' ' + str(breed))\n",
        "\n",
        "for breed_name in ALL_BREEDS_LIST:\n",
        "  print(count, breed_name)\n",
        "  count+=1\n",
        "\n",
        "needed_breeds = input('Какие породы найти:').split(', ')\n",
        "\n",
        "def find_needed_breeds(needed_breeds):\n",
        "  IMAGES_URL = []\n",
        "  for breed_name in needed_breeds:\n",
        "    if ' ' not in breed_name:\n",
        "      url = f'https://dog.ceo/api/breed/{breed_name}/images/random'\n",
        "      response = requests.get(url)\n",
        "      IMAGES_URL.append(response.json()['message'])\n",
        "    else:\n",
        "      url = f'https://dog.ceo/api/breed/{breed_name.split(\" \")[1]}/{breed_name.split(\" \")[0]}/images/random'\n",
        "      response = requests.get(url)\n",
        "      IMAGES_URL.append(response.json()['message'])\n",
        "\n",
        "  return IMAGES_URL\n",
        "\n",
        "\n",
        "for image_url in find_needed_breeds(needed_breeds):\n",
        "  display(Image(url = image_url))"
      ],
      "metadata": {
        "id": "5xti3KRP4Kzp",
        "colab": {
          "base_uri": "https://localhost:8080/",
          "height": 1000,
          "resources": {
            "http://localhost:8080/Breed%20not%20found%20(master%20breed%20does%20not%20exist)": {
              "data": "",
              "ok": false,
              "headers": [
                [
                  "content-length",
                  "0"
                ]
              ],
              "status": 404,
              "status_text": ""
            }
          }
        },
        "outputId": "757d043a-7493-4f29-99d8-987ab3d37905"
      },
      "execution_count": null,
      "outputs": [
        {
          "name": "stdout",
          "output_type": "stream",
          "text": [
            "1 affenpinscher\n",
            "2 african\n",
            "3 airedale\n",
            "4 akita\n",
            "5 appenzeller\n",
            "6 kelpie australian\n",
            "7 shepherd australian\n",
            "8 indian bakharwal\n",
            "9 basenji\n",
            "10 beagle\n",
            "11 bluetick\n",
            "12 borzoi\n",
            "13 bouvier\n",
            "14 boxer\n",
            "15 brabancon\n",
            "16 briard\n",
            "17 norwegian buhund\n",
            "18 boston bulldog\n",
            "19 english bulldog\n",
            "20 french bulldog\n",
            "21 staffordshire bullterrier\n",
            "22 australian cattledog\n",
            "23 cavapoo\n",
            "24 chihuahua\n",
            "25 indian chippiparai\n",
            "26 chow\n",
            "27 clumber\n",
            "28 cockapoo\n",
            "29 border collie\n",
            "30 coonhound\n",
            "31 cardigan corgi\n",
            "32 cotondetulear\n",
            "33 dachshund\n",
            "34 dalmatian\n",
            "35 great dane\n",
            "36 swedish danish\n",
            "37 scottish deerhound\n",
            "38 dhole\n",
            "39 dingo\n",
            "40 doberman\n",
            "41 norwegian elkhound\n",
            "42 entlebucher\n",
            "43 eskimo\n",
            "44 lapphund finnish\n",
            "45 bichon frise\n",
            "46 indian gaddi\n",
            "47 germanshepherd\n",
            "48 indian greyhound\n",
            "49 italian greyhound\n",
            "50 groenendael\n",
            "51 havanese\n",
            "52 afghan hound\n",
            "53 basset hound\n",
            "54 blood hound\n",
            "55 english hound\n",
            "56 ibizan hound\n",
            "57 plott hound\n",
            "58 walker hound\n",
            "59 husky\n",
            "60 keeshond\n",
            "61 kelpie\n",
            "62 kombai\n",
            "63 komondor\n",
            "64 kuvasz\n",
            "65 labradoodle\n",
            "66 labrador\n",
            "67 leonberg\n",
            "68 lhasa\n",
            "69 malamute\n",
            "70 malinois\n",
            "71 maltese\n",
            "72 bull mastiff\n",
            "73 english mastiff\n",
            "74 indian mastiff\n",
            "75 tibetan mastiff\n",
            "76 mexicanhairless\n",
            "77 mix\n",
            "78 bernese mountain\n",
            "79 swiss mountain\n",
            "80 indian mudhol\n",
            "81 newfoundland\n",
            "82 otterhound\n",
            "83 caucasian ovcharka\n",
            "84 papillon\n",
            "85 indian pariah\n",
            "86 pekinese\n",
            "87 pembroke\n",
            "88 miniature pinscher\n",
            "89 pitbull\n",
            "90 german pointer\n",
            "91 germanlonghair pointer\n",
            "92 pomeranian\n",
            "93 medium poodle\n",
            "94 miniature poodle\n",
            "95 standard poodle\n",
            "96 toy poodle\n",
            "97 pug\n",
            "98 puggle\n",
            "99 pyrenees\n",
            "100 indian rajapalayam\n",
            "101 redbone\n",
            "102 chesapeake retriever\n",
            "103 curly retriever\n",
            "104 flatcoated retriever\n",
            "105 golden retriever\n",
            "106 rhodesian ridgeback\n",
            "107 rottweiler\n",
            "108 saluki\n",
            "109 samoyed\n",
            "110 schipperke\n",
            "111 giant schnauzer\n",
            "112 miniature schnauzer\n",
            "113 italian segugio\n",
            "114 english setter\n",
            "115 gordon setter\n",
            "116 irish setter\n",
            "117 sharpei\n",
            "118 english sheepdog\n",
            "119 indian sheepdog\n",
            "120 shetland sheepdog\n",
            "121 shiba\n",
            "122 shihtzu\n",
            "123 blenheim spaniel\n",
            "124 brittany spaniel\n",
            "125 cocker spaniel\n",
            "126 irish spaniel\n",
            "127 japanese spaniel\n",
            "128 sussex spaniel\n",
            "129 welsh spaniel\n",
            "130 indian spitz\n",
            "131 japanese spitz\n",
            "132 english springer\n",
            "133 stbernard\n",
            "134 american terrier\n",
            "135 australian terrier\n",
            "136 bedlington terrier\n",
            "137 border terrier\n",
            "138 cairn terrier\n",
            "139 dandie terrier\n",
            "140 fox terrier\n",
            "141 irish terrier\n",
            "142 kerryblue terrier\n",
            "143 lakeland terrier\n",
            "144 norfolk terrier\n",
            "145 norwich terrier\n",
            "146 patterdale terrier\n",
            "147 russell terrier\n",
            "148 scottish terrier\n",
            "149 sealyham terrier\n",
            "150 silky terrier\n",
            "151 tibetan terrier\n",
            "152 toy terrier\n",
            "153 welsh terrier\n",
            "154 westhighland terrier\n",
            "155 wheaten terrier\n",
            "156 yorkshire terrier\n",
            "157 tervuren\n",
            "158 vizsla\n",
            "159 spanish waterdog\n",
            "160 weimaraner\n",
            "161 whippet\n",
            "162 irish wolfhound\n",
            "Какие породы найти:dachshund, vizsla, toy terrie\n"
          ]
        },
        {
          "output_type": "display_data",
          "data": {
            "text/html": [
              "<img src=\"https://images.dog.ceo/breeds/dachshund/dog-2643027_640.jpg\"/>"
            ],
            "text/plain": [
              "<IPython.core.display.Image object>"
            ]
          },
          "metadata": {}
        },
        {
          "output_type": "display_data",
          "data": {
            "text/html": [
              "<img src=\"https://images.dog.ceo/breeds/vizsla/n02100583_13353.jpg\"/>"
            ],
            "text/plain": [
              "<IPython.core.display.Image object>"
            ]
          },
          "metadata": {}
        },
        {
          "output_type": "display_data",
          "data": {
            "text/html": [
              "<img src=\"Breed not found (master breed does not exist)\"/>"
            ],
            "text/plain": [
              "<IPython.core.display.Image object>"
            ]
          },
          "metadata": {}
        }
      ]
    }
  ]
}