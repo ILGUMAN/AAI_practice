{
  "nbformat": 4,
  "nbformat_minor": 0,
  "metadata": {
    "colab": {
      "provenance": []
    },
    "kernelspec": {
      "name": "python3",
      "display_name": "Python 3"
    },
    "language_info": {
      "name": "python"
    }
  },
  "cells": [
    {
      "cell_type": "markdown",
      "source": [
        "**ФИО:**"
      ],
      "metadata": {
        "id": "GEsFKJm-ABFp"
      }
    },
    {
      "cell_type": "code",
      "execution_count": null,
      "metadata": {
        "id": "wZMLYG_G_-19"
      },
      "outputs": [],
      "source": [
        "'Суханов Илья Алексеевич'"
      ]
    },
    {
      "cell_type": "markdown",
      "source": [
        "# Задание 1"
      ],
      "metadata": {
        "id": "H4DrYnJjADuZ"
      }
    },
    {
      "cell_type": "markdown",
      "source": [
        "**Описание:** Создайте иерархию классов для разных типов сотрудников в компании. Реализуйте родительский класс Employee и дочерние классы Manager и Developer. Каждый класс должен иметь метод для расчета зарплаты на основе различных критериев класса.\n",
        "\n",
        "\n",
        "Отрабатываемый принцип: Наследование\n",
        "\n"
      ],
      "metadata": {
        "id": "C17FWep-AF4a"
      }
    },
    {
      "cell_type": "code",
      "source": [
        "class Employee:\n",
        "    vacation_days = 28\n",
        "\n",
        "    def __init__(self, first_name, second_name, gender):\n",
        "        self.first_name = first_name\n",
        "        self.second_name = second_name\n",
        "        self.gender = gender\n",
        "        self.remaining_vacation_days = Employee.vacation_days\n",
        "        self._employee_id = self.__generate_employee_id()\n",
        "\n",
        "    def consume_vacation(self, days):\n",
        "        self.remaining_vacation_days -= days\n",
        "\n",
        "    def get_vacation_details(self):\n",
        "        return f'Остаток отпускных дней: {self.remaining_vacation_days}.'\n",
        "\n",
        "    def __generate_employee_id(self):\n",
        "        _employee_id = hash(self.first_name + self.second_name + self.gender)\n",
        "        return _employee_id\n",
        "\n",
        "\n",
        "class FullTimeEmployee(Employee):\n",
        "    def __init__(self,first_name, second_name, gender, salary):\n",
        "        super().__init__(first_name, second_name, gender)\n",
        "        self.__salary = salary\n",
        "\n",
        "    def __get_vacation_salary(self):\n",
        "        return self.__salary * 0.8\n",
        "\n",
        "    def get_unpaid_vacation(self, start_date, days):\n",
        "        return f'Начало неоплачиваемого отпуска: {start_date}, продолжительность: {days} дней.'\n",
        "\n",
        "class PartTimeEmployee(Employee):\n",
        "    vacation_days = 14\n",
        "\n",
        "    def __init__(self, first_name, second_name, gender):\n",
        "        super().__init__(first_name, second_name, gender)\n",
        "        self.remaining_vacation_days = PartTimeEmployee.vacation_days\n",
        "\n",
        "\n",
        "# Пример использования:\n",
        "full_time_employee = FullTimeEmployee('Иван', 'Иванов', 'м', 50000)\n",
        "print(full_time_employee.get_unpaid_vacation('2023-07-01', 5))\n",
        "\n",
        "part_time_employee = PartTimeEmployee('Анна', 'Петрова', 'ж')\n",
        "part_time_employee.consume_vacation(5)\n",
        "print(part_time_employee.get_vacation_details())\n"
      ],
      "metadata": {
        "id": "aexGXzqCAFH7",
        "colab": {
          "base_uri": "https://localhost:8080/"
        },
        "outputId": "81f20907-d27a-4da2-b9e3-77d2146aa741"
      },
      "execution_count": null,
      "outputs": [
        {
          "output_type": "stream",
          "name": "stdout",
          "text": [
            "Начало неоплачиваемого отпуска: 2023-07-01, продолжительность: 5 дней.\n",
            "Остаток отпускных дней: 9.\n"
          ]
        }
      ]
    },
    {
      "cell_type": "markdown",
      "source": [
        "# Задание 2"
      ],
      "metadata": {
        "id": "ERAi0TG5BI6v"
      }
    },
    {
      "cell_type": "markdown",
      "source": [
        "**Описание:** Создайте иерархию классов для различных типов транспортных средств (Необходим один родительский класс и 3 дочерних). Реализуйте метод, который позволяет каждому транспортному средству возвращать собственное описание (Метод в каждом классе должен иметь одинаковое название). Продемонстрируйте вызов данного метода для каждого транспортного средства.\n",
        "\n",
        "\n",
        "Отрабатываемый принцип: Полиморфизм"
      ],
      "metadata": {
        "id": "sJ3k7ZcgBK87"
      }
    },
    {
      "cell_type": "code",
      "source": [
        "class TransportVehicle:\n",
        "  number_of_wheels = 4\n",
        "  def __init__(self, brand, can_ride):\n",
        "    self.brand = brand\n",
        "    self.can_ride = can_ride\n",
        "\n",
        "  def get_information(self):\n",
        "    print(f'Количество колёс: {self.number_of_wheels}\\n'\n",
        "    f'Марка: {self.brand}\\n'\n",
        "    f'Может ездить: {self.can_ride}\\n'\n",
        "    )\n",
        "\n",
        "\n",
        "class NormalCar(TransportVehicle):\n",
        "  def __init__(self, brand, can_ride):\n",
        "    super().__init__(brand, can_ride)\n",
        "    self.brand = brand\n",
        "\n",
        "  def get_information(self):\n",
        "    print(f'Количество колёс: {self.number_of_wheels}\\n'\n",
        "    f'Марка: {self.brand}\\n'\n",
        "    f'Может ездить: {self.can_ride}\\n'\n",
        "    )\n",
        "\n",
        "\n",
        "class StrangeCar(TransportVehicle):\n",
        "  number_of_wheels = 7\n",
        "  def __init__(self, brand, can_ride):\n",
        "    super().__init__(brand, can_ride)\n",
        "    self.can_ride = can_ride\n",
        "\n",
        "  def get_information(self):\n",
        "    print(f'Количество колёс: {self.number_of_wheels}\\n'\n",
        "    f'Марка: {self.brand}\\n'\n",
        "    f'Может ездить: {self.can_ride}\\n'\n",
        "    )\n",
        "\n",
        "\n",
        "class BrokenCar(TransportVehicle):\n",
        "  number_of_wheels = 0\n",
        "  def __init__(self, brand, can_ride):\n",
        "    self.brand = brand\n",
        "    self.can_ride = can_ride\n",
        "\n",
        "  def get_information(self):\n",
        "    print(f'Количество колёс: {self.number_of_wheels}\\n'\n",
        "    f'Марка: {self.brand}\\n'\n",
        "    f'Может ездить: {self.can_ride}\\n'\n",
        "    )\n",
        "\n",
        "\n",
        "car_1 = TransportVehicle(1, True)\n",
        "car_1.get_information()\n",
        "\n",
        "car_2 = NormalCar(2, True)\n",
        "car_2.get_information()\n",
        "\n",
        "car_3 = StrangeCar(3, False)\n",
        "car_3.get_information()\n",
        "\n",
        "car_4 = BrokenCar(4, False)\n",
        "car_4.get_information()"
      ],
      "metadata": {
        "colab": {
          "base_uri": "https://localhost:8080/"
        },
        "id": "fmx_2D3tATB2",
        "outputId": "af90261d-ed33-4561-fa4a-dd0fe4a855fe"
      },
      "execution_count": null,
      "outputs": [
        {
          "output_type": "stream",
          "name": "stdout",
          "text": [
            "Количество колёс: 4\n",
            "Марка: 1\n",
            "Может ездить: True\n",
            "\n",
            "Количество колёс: 4\n",
            "Марка: 2\n",
            "Может ездить: True\n",
            "\n",
            "Количество колёс: 7\n",
            "Марка: 3\n",
            "Может ездить: False\n",
            "\n",
            "Количество колёс: 0\n",
            "Марка: 4\n",
            "Может ездить: False\n",
            "\n"
          ]
        }
      ]
    },
    {
      "cell_type": "markdown",
      "source": [
        "# Задание 3"
      ],
      "metadata": {
        "id": "7E_SJXMJBvD4"
      }
    },
    {
      "cell_type": "markdown",
      "source": [
        "Онлайн-магазин:\n",
        "- Создайте модель для онлайн-магазина с классами Product, Order, Customer, и ShoppingCart.\n",
        "- Product включает информацию о цене, наличии на складе и категории товара.\n",
        "Order обрабатывает процесс покупки, включая расчет цены с учетом скидок и налогов.\n",
        "- Customer управляет информацией о пользователе и его истории заказов.\n",
        "- ShoppingCart позволяет добавлять, удалять и обновлять количество товаров перед оформлением заказа.\n"
      ],
      "metadata": {
        "id": "dd1mwKj_BxHa"
      }
    },
    {
      "cell_type": "code",
      "source": [
        "class Product:\n",
        "  def __init__(self, name, price, quantity=0, category=None):\n",
        "    self.name = name\n",
        "    self.price = price\n",
        "    self.quantity = quantity\n",
        "    self.category = category\n",
        "\n",
        "  def get_total_price(self):\n",
        "    return self.price * self.quantity\n",
        "\n",
        "\n",
        "class ShoppingCart:\n",
        "  def __init__(self):\n",
        "    self.items = []\n",
        "\n",
        "  def add_item(self, product, quantity=1):\n",
        "    for item in self.items:\n",
        "        if item['product'] == product:\n",
        "            item['quantity'] += quantity\n",
        "            break\n",
        "    else:\n",
        "        self.items.append({'product': product, 'quantity': quantity})\n",
        "\n",
        "  def remove_item(self, product):\n",
        "    self.items = [item for item in self.items if item['product'] != product]\n",
        "\n",
        "  def update_quantity(self, product, new_quantity):\n",
        "    for item in self.items:\n",
        "        if item['product'] == product:\n",
        "            item['quantity'] = new_quantity\n",
        "            break\n",
        "\n",
        "  def get_total_cost(self):\n",
        "    total_cost = sum(item['product'].get_total_price() for item in self.items)\n",
        "    return total_cost\n",
        "\n",
        "\n",
        "class Customer:\n",
        "  def __init__(self, name, email):\n",
        "    self.name = name\n",
        "    self.email = email\n",
        "    self.orders = []\n",
        "\n",
        "  def place_order(self, order):\n",
        "    self.orders.append(order)\n",
        "\n",
        "\n",
        "class Order:\n",
        "  def __init__(self, customer, shopping_cart):\n",
        "    self.customer = customer\n",
        "    self.shopping_cart = shopping_cart\n",
        "    self.total_cost = shopping_cart.get_total_cost()\n",
        "    self.discount = 0\n",
        "    self.tax = 0.05  # 5% налог\n",
        "\n",
        "  def apply_discount(self, discount_percentage):\n",
        "    self.discount = self.total_cost * (discount_percentage / 100)\n",
        "\n",
        "  def calculate_final_cost(self):\n",
        "    final_cost = self.total_cost - self.discount + (self.total_cost * self.tax)\n",
        "    return final_cost"
      ],
      "metadata": {
        "id": "wkCcv_K-Bwdv"
      },
      "execution_count": null,
      "outputs": []
    },
    {
      "cell_type": "markdown",
      "source": [
        "# Задание 4"
      ],
      "metadata": {
        "id": "ih7iPlYfB7lL"
      }
    },
    {
      "cell_type": "markdown",
      "source": [
        "Симулятор космического корабля:\n",
        "- Создайте симулятор управления космическим кораблем с классами SpaceShip, CrewMember, и Mission.\n",
        "- SpaceShip имеет атрибуты для управления топливом, состоянием корпуса, и текущей скоростью.\n",
        "- CrewMember контролирует здоровье, навыки, и роли в команде (например, пилот, инженер).\n",
        "- Mission определяет цели, ресурсы, и возможные события (например, аварии, встречи с астероидами)."
      ],
      "metadata": {
        "id": "zLwqVCbpCBvc"
      }
    },
    {
      "cell_type": "code",
      "source": [
        "class SpaceShip:\n",
        "  def __init__(self, fuel, body_HP, speed):\n",
        "    self.fuel = fuel\n",
        "    self.body_HP = body_HP\n",
        "    self.speed = speed\n",
        "\n",
        "  def change_speed(self, new_speed):\n",
        "    self.speed = new_speed\n",
        "\n",
        "  def get_damage(self, damage):\n",
        "    self.body_HP -= damage\n",
        "\n",
        "  def fix(self, HP):\n",
        "    self.body_HP += HP\n",
        "\n",
        "\n",
        "class CrewMember:\n",
        "  def __init__(self, name, role, HP):\n",
        "    self.name = name\n",
        "    self.role = role\n",
        "    self.HP = HP\n",
        "\n",
        "\n",
        "class Mission:\n",
        "  def __init__(self, name):\n",
        "    self.name = name\n",
        "\n",
        "  def get_event_name(self):\n",
        "    return self.name\n",
        "\n",
        "\n",
        "ship = SpaceShip(100, 100, 10)\n",
        "ingenere = CrewMember('Вова', 'инженер', 10)\n",
        "crash = Mission('столкновение')\n",
        "\n",
        "\n",
        "if crash.name == 'столкновение':\n",
        "  ship.get_damage(10)\n",
        "  print('Столкновение!',\n",
        "        f'Жизни корабля: {ship.body_HP}'\n",
        "        )\n",
        "\n",
        "if ingenere.role == 'инженер':\n",
        "  ship.fix(5)\n",
        "  print('Вы починили корабль!',\n",
        "        f'Жизни корабля: {ship.body_HP}'\n",
        "        )"
      ],
      "metadata": {
        "id": "4NyrOOy8B9ED",
        "colab": {
          "base_uri": "https://localhost:8080/"
        },
        "outputId": "0cb2e721-6a67-4646-bf1a-626f14ee3c49"
      },
      "execution_count": null,
      "outputs": [
        {
          "output_type": "stream",
          "name": "stdout",
          "text": [
            "Столкновение! Жизни корабля: 90\n",
            "Вы починили корабль! Жизни корабля: 95\n"
          ]
        }
      ]
    },
    {
      "cell_type": "markdown",
      "source": [
        "# Дополнительно:"
      ],
      "metadata": {
        "id": "F7mRVsZjCXk0"
      }
    },
    {
      "cell_type": "markdown",
      "source": [
        "**Описание:** создайте консольную версию игры крестики-нолики, используя классы"
      ],
      "metadata": {
        "id": "X4Lkf86UCc1h"
      }
    },
    {
      "cell_type": "code",
      "source": [],
      "metadata": {
        "id": "x9OxpNsyCcUo"
      },
      "execution_count": null,
      "outputs": []
    }
  ]
}