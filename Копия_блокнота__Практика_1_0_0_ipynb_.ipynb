{
  "nbformat": 4,
  "nbformat_minor": 0,
  "metadata": {
    "colab": {
      "provenance": []
    },
    "kernelspec": {
      "name": "python3",
      "display_name": "Python 3"
    },
    "language_info": {
      "name": "python"
    }
  },
  "cells": [
    {
      "cell_type": "markdown",
      "source": [
        "Суханов Илья Алексеевич (зачтено 19 11 2024 )"
      ],
      "metadata": {
        "id": "CqP97o-H23hE"
      }
    },
    {
      "cell_type": "markdown",
      "source": [
        "ФИО:"
      ],
      "metadata": {
        "id": "fLDS5f_mCnPa"
      }
    },
    {
      "cell_type": "markdown",
      "source": [
        "# Задание (совместное с преподавателем)\n",
        "\n",
        "\n"
      ],
      "metadata": {
        "id": "-CSHUbWzCqeM"
      }
    },
    {
      "cell_type": "markdown",
      "source": [],
      "metadata": {
        "id": "l6bz_4VM29EG"
      }
    },
    {
      "cell_type": "markdown",
      "source": [
        "Напишите систему для учёта отпусков с возможностью узнавать, сколько дней отпуска осталось у того или иного сотрудника.\n",
        "Для этого создайте класс Employee со следующими методами:\n",
        "\n",
        "- Метод consume_vacation должен отвечать за списание дней отпуска.\n",
        "\n",
        "Единственный параметр этого метода (кроме self) — количество потраченных отпускных дней (целое число).\n",
        "\n",
        "При вызове метода consume_vacation соответствующее количество дней должно вычитаться из общего числа доступных отпускных дней сотрудника.\n",
        "\n",
        "Чтобы определить число доступных отпускных дней конкретного сотрудника, в классе опишите атрибут экземпляра remaining_vacation_days, который по умолчанию будет равен значению атрибута класса vacation_days, и используйте этот атрибут в работе метода.\n",
        "\n",
        "- Метод get_vacation_details должен возвращать остаток отпускных дней сотрудника в формате: ```Остаток отпускных дней: <число>.```\n",
        "\n",
        "\n",
        "Чтобы проверить работу программы:\n",
        "1. Создайте экземпляр класса Employee.\n",
        "2. Вызовите метод consume_vacation, указав подходящее значение аргумента, например 7.\n",
        "3. Вызовите метод get_vacation_details."
      ],
      "metadata": {
        "id": "a_flBjZOCwYz"
      }
    },
    {
      "cell_type": "code",
      "source": [
        "# Вставлено из Яндекс практикума.\n",
        "# Более поздняя версия с пременением наследования.\n",
        "\n",
        "class Employee:\n",
        "    vacation_days = 28\n",
        "\n",
        "    def __init__(self, first_name, second_name, gender):\n",
        "        self.first_name = first_name\n",
        "        self.second_name = second_name\n",
        "        self.gender = gender\n",
        "        self.remaining_vacation_days = Employee.vacation_days\n",
        "\n",
        "    def consume_vacation(self, days):\n",
        "        self.remaining_vacation_days -= days\n",
        "\n",
        "    def get_vacation_details(self):\n",
        "        return f'Остаток отпускных дней: {self.remaining_vacation_days}.'\n",
        "\n",
        "# Расширьте класс Employee, создав классы FullTimeEmployee и PartTimeEmployee.\n",
        "class FullTimeEmployee(Employee):\n",
        "    def get_unpaid_vacation(self, date, days):\n",
        "        return f'Начало неоплачиваемого отпуска: {date}, продолжительность: {days} дней.'\n",
        "\n",
        "\n",
        "class PartTimeEmployee(Employee):\n",
        "    vacation_days = 14\n",
        "\n",
        "    def __init__(self, first_name, second_name, gender):\n",
        "        super().__init__(first_name, second_name, gender)\n",
        "        self.remaining_vacation_days = PartTimeEmployee.vacation_days\n",
        "\n",
        "# Пример использования:\n",
        "full_time_employee = FullTimeEmployee('Роберт', 'Крузо', 'м')\n",
        "print(full_time_employee.get_unpaid_vacation('2023-07-01', 5))\n",
        "part_time_employee = PartTimeEmployee('Алёна', 'Пятницкая', 'ж')\n",
        "print(part_time_employee.get_vacation_details())"
      ],
      "metadata": {
        "id": "G4bUraN4CwBI"
      },
      "execution_count": null,
      "outputs": []
    },
    {
      "cell_type": "markdown",
      "source": [
        "# Задание 1"
      ],
      "metadata": {
        "id": "8XGka5GtEBK1"
      }
    },
    {
      "cell_type": "markdown",
      "source": [
        "Задание:\n",
        "\n",
        "Создайте класс с именем Rectangle который имеет:\n",
        "- Атрибуты ширины и высоты.\n",
        "- Метод расчета площади.\n",
        "- Метод расчета периметра.\n",
        "- Метод отображения размеров прямоугольника.\n",
        "\n",
        "Создайте экземпляр класса Rectangleи продемонстрируйте его функциональность."
      ],
      "metadata": {
        "id": "jQ4qqd8nEZBY"
      }
    },
    {
      "cell_type": "code",
      "source": [
        "class Rectangle:\n",
        "  def __init__(self, width, height):\n",
        "    self.width = width\n",
        "    self.height = height\n",
        "\n",
        "  def square(self):\n",
        "    square = self.width * self.height\n",
        "    return f'Площадь: {square}'\n",
        "\n",
        "  def perimeter(self):\n",
        "    perimeter = 2 * (self.width + self.height)\n",
        "    return f'Периметр: {perimeter}'\n",
        "\n",
        "  def sizes(self):\n",
        "    return f'Размеры: {self.width} x {self.height}'\n",
        "\n",
        "\n",
        "rect = Rectangle(2, 5)\n",
        "\n",
        "print(rect.square())\n",
        "print(rect.perimeter())\n",
        "print(rect.sizes())"
      ],
      "metadata": {
        "id": "dG6uNPqTEAvt",
        "colab": {
          "base_uri": "https://localhost:8080/"
        },
        "outputId": "b7fc461a-6d85-468e-bfde-3a0ae7153c1b"
      },
      "execution_count": null,
      "outputs": [
        {
          "output_type": "stream",
          "name": "stdout",
          "text": [
            "Площадь: 10\n",
            "Периметр: 14\n",
            "Размеры: 2 x 5\n"
          ]
        }
      ]
    },
    {
      "cell_type": "markdown",
      "source": [
        "# Задание 2"
      ],
      "metadata": {
        "id": "0ct1u6lqE73j"
      }
    },
    {
      "cell_type": "markdown",
      "source": [
        "Задание: Создайте мини версию банковской системы:\n",
        "\n",
        "\n",
        "Инструкции:\n",
        "\n",
        "1. Создайте класс BankAccountсо следующими атрибутами:\n",
        "    - account_holder -  владелец счета\n",
        "    - balance - баланс счета\n",
        "\n",
        "2. Реализуйте следующие методы:\n",
        "    - Метод для инициализации владельца счета: имя владельца счета и установите начальный баланс на 0.\n",
        "    - deposit(amount): Добавьте указанную сумму к балансу.\n",
        "    - withdraw(amount): Вычесть указанную сумму из баланса, если средств достаточно; в противном случае вывести предупреждение.\n",
        "    - get_balance(): Возврат текущего баланса.\n",
        "\n",
        "\n",
        "Создайте объект класса и продемонстрируйте его возможности"
      ],
      "metadata": {
        "id": "FOpIpcLxE-WK"
      }
    },
    {
      "cell_type": "code",
      "source": [
        "class BankAccountсо:\n",
        "  def __init__(self, account_holder='', balance=0):\n",
        "    self.account_holder = account_holder\n",
        "    self.balance = balance\n",
        "\n",
        "  def deposit(self, amount):\n",
        "    self.balance += amount\n",
        "\n",
        "  def withdraw(self, amount):\n",
        "    if self.balance >= amount:\n",
        "      self.balance -= amount\n",
        "    else:\n",
        "      print('Недостаточно средств!')\n",
        "\n",
        "  def get_balance(self):\n",
        "    return f'{self.account_holder}, Ваш баланс: {self.balance}'\n",
        "\n",
        "\n",
        "account = BankAccountсо('Илья')\n",
        "\n",
        "account.deposit(100)\n",
        "print(account.get_balance())\n",
        "account.withdraw(150)\n",
        "account.withdraw(10)\n",
        "print(account.get_balance())"
      ],
      "metadata": {
        "id": "WWXNIUrCE99W",
        "colab": {
          "base_uri": "https://localhost:8080/"
        },
        "outputId": "2519ff8e-1461-497c-c907-73f9073a57ec"
      },
      "execution_count": null,
      "outputs": [
        {
          "output_type": "stream",
          "name": "stdout",
          "text": [
            "Илья, Ваш баланс: 100\n",
            "Недостаточно средств!\n",
            "Илья, Ваш баланс: 90\n"
          ]
        }
      ]
    },
    {
      "cell_type": "markdown",
      "source": [
        "# Задание 3"
      ],
      "metadata": {
        "id": "C5DX5Uf2FfP6"
      }
    },
    {
      "cell_type": "markdown",
      "source": [
        "Возьмите код и задание (Рыцарь и дракон) из предыдущей практики и реализуйте его с применением классов"
      ],
      "metadata": {
        "id": "0cR-MYepFgz6"
      }
    },
    {
      "cell_type": "code",
      "source": [
        "from random import randint\n",
        "\n",
        "\n",
        "class Knight:\n",
        "  def __init__(self, name, armor, weapon, damage, health):\n",
        "    self.name = name\n",
        "    self.armor = armor\n",
        "    self.weapon = weapon\n",
        "    self.damage = damage\n",
        "    self.health = health\n",
        "\n",
        "  def lose_health(self, damage):\n",
        "    self.health -= damage\n",
        "\n",
        "\n",
        "class Dragon:\n",
        "  def __init__(self, damage, health):\n",
        "    self.damage = damage\n",
        "    self.health = health\n",
        "\n",
        "  def lose_health(self, damage):\n",
        "    self.health -= damage\n",
        "\n",
        "\n",
        "def story():\n",
        "  print('''Давным-давно жил-был один рыцарь, который был драконофобом.\n",
        "  Он жесть как ненавидел драконов! Поэтому решил истребить их всех...\n",
        "  Наверное они заслужили это..?''')\n",
        "\n",
        "  print('''Ваше приключение начинается у вас дома.\n",
        "  Действия:\n",
        "  --> Остаться дома\n",
        "  --> Пойти в страшный лес''')\n",
        "\n",
        "  action = input('Ваши действия:').lower()\n",
        "\n",
        "  if action == 'остаться дома':\n",
        "    print('Реально. Кому вообще нужны приключения?')\n",
        "    print('YOU WIN')\n",
        "\n",
        "  elif action == 'пойти в страшный лес':\n",
        "    print('''В лесу вы видите тропинку. Как поступите?\n",
        "    Действия:\n",
        "    --> Пойти в чащу\n",
        "    --> Пойти по тропинке''')\n",
        "\n",
        "    action = input('Ваши действия:').lower()\n",
        "\n",
        "    if action == 'пойти по тропинке':\n",
        "      print('Вы ... вышли из леса, так и не найдя дракона')\n",
        "      print('YOU LOSE')\n",
        "\n",
        "    elif action == 'пойти в чащу':\n",
        "      print('Вы нашли дракона! БОЙ!!!')\n",
        "      battle()\n",
        "\n",
        "\n",
        "def battle():\n",
        "  while True:\n",
        "    dragon_action = randint(0, 1)\n",
        "    if dragon_action == 0:\n",
        "      print('Дракон ничего не делает')\n",
        "\n",
        "    elif dragon_action == 1:\n",
        "      print('Дракон атакует')\n",
        "\n",
        "    print('''Действия:\n",
        "    --> Нанести удар\n",
        "    --> Блокировать удар''')\n",
        "\n",
        "    player_action = input().lower()\n",
        "\n",
        "    if dragon_action == 0 and player_action == 'нанести удар':\n",
        "      dragon.lose_health(randint(knight.damage, knight.damage+2))\n",
        "      print(f'Ваши жизни: {knight.health}, Жизни дракона: {dragon.health}')\n",
        "      if dragon.health <= 0:\n",
        "        print('Вы победили!')\n",
        "        break\n",
        "      else:\n",
        "        battle()\n",
        "\n",
        "    elif dragon_action == 0 and player_action == 'блокировать удар':\n",
        "      print('Ничего не происходит')\n",
        "      print(f'Ваши жизни: {knight.health}, Жизни дракона: {dragon.health}')\n",
        "\n",
        "    elif dragon_action == 1 and player_action == 'нанести удар':\n",
        "      knight.lose_health(randint(dragon.damage, dragon.damage+2))\n",
        "      dragon.lose_health(randint(knight.damage, knight.damage+2))\n",
        "      print(f'Ваши жизни: {knight.health}, Жизни дракона: {dragon.health}')\n",
        "      if knight.health <= 0:\n",
        "        print('Вы проиграли!')\n",
        "        break\n",
        "      elif dragon.health <= 0:\n",
        "        print('Вы победили!')\n",
        "        break\n",
        "      else:\n",
        "        battle()\n",
        "\n",
        "    elif dragon_action == 1 and player_action == 'блокировать удар':\n",
        "      knight.lose_health(abs(dragon.damage - knight.armor))\n",
        "      print(f'Ваши жизни: {knight.health}, Жизни дракона: {dragon.health}')\n",
        "      if knight.health <= 0:\n",
        "        print('Вы проиграли!')\n",
        "        break\n",
        "      else:\n",
        "        battle()\n",
        "\n",
        "\n",
        "knight = 0\n",
        "dragon = 0\n",
        "\n",
        "while True:\n",
        "  print('Функционал: создать рыцаря, создать дракона, начать игру')\n",
        "  what_to_do = input('Ваши действия: ').lower()\n",
        "\n",
        "  if what_to_do == 'начать игру':\n",
        "    if knight == 0:\n",
        "      print('Рыцарь ещё не создан!')\n",
        "    elif dragon == 0:\n",
        "      print('Дракон ещё не создан!')\n",
        "    else:\n",
        "      story()\n",
        "  elif what_to_do == 'создать рыцаря':\n",
        "    name = input('Имя: ')\n",
        "    armor = int(input('Броня: '))\n",
        "    weapon = input('Оружие:')\n",
        "    damage = int(input('Урон: '))\n",
        "    health = int(input('Жизни: '))\n",
        "    knight = Knight(name, armor, weapon, damage, health)\n",
        "  elif what_to_do == 'создать дракона':\n",
        "    damage = int(input('Урон: '))\n",
        "    health = int(input('Жизни: '))\n",
        "    dragon = Dragon(damage, health)"
      ],
      "metadata": {
        "id": "Oz9BZbhAFwua",
        "colab": {
          "base_uri": "https://localhost:8080/",
          "height": 963
        },
        "outputId": "80e13b6b-a57e-4474-d8cc-91cd3c1c2baf"
      },
      "execution_count": null,
      "outputs": [
        {
          "output_type": "stream",
          "name": "stdout",
          "text": [
            "Функционал: создать рыцаря, создать дракона, начать игру\n",
            "Ваши действия: создать рыцаря\n",
            "Имя: q\n",
            "Броня: 1\n",
            "Оружие:q\n",
            "Урон: 9\n",
            "Жизни: 9\n",
            "Функционал: создать рыцаря, создать дракона, начать игру\n",
            "Ваши действия: создать дракона\n",
            "Урон: 1\n",
            "Жизни: 1\n",
            "Функционал: создать рыцаря, создать дракона, начать игру\n",
            "Ваши действия: начать игру\n",
            "Давным-давно жил-был один рыцарь, который был драконофобом.\n",
            "  Он жесть как ненавидел драконов! Поэтому решил истребить их всех...\n",
            "  Наверное они заслужили это..?\n",
            "Ваше приключение начинается у вас дома.\n",
            "  Действия:\n",
            "  --> Остаться дома\n",
            "  --> Пойти в страшный лес\n",
            "Ваши действия:Пойти в страшный лес\n",
            "В лесу вы видите тропинку. Как поступите?\n",
            "    Действия:\n",
            "    --> Пойти в чащу\n",
            "    --> Пойти по тропинке\n",
            "Ваши действия:Пойти в чащу\n",
            "Вы нашли дракона! БОЙ!!!\n",
            "Дракон ничего не делает\n",
            "Действия:\n",
            "    --> Нанести удар\n",
            "    --> Блокировать удар\n",
            "Нанести удар\n",
            "Ваши жизни: 9, Жизни дракона: -8\n",
            "Вы победили!\n",
            "Функционал: создать рыцаря, создать дракона, начать игру\n"
          ]
        },
        {
          "output_type": "error",
          "ename": "KeyboardInterrupt",
          "evalue": "Interrupted by user",
          "traceback": [
            "\u001b[0;31m---------------------------------------------------------------------------\u001b[0m",
            "\u001b[0;31mKeyboardInterrupt\u001b[0m                         Traceback (most recent call last)",
            "\u001b[0;32m<ipython-input-30-b52136570f13>\u001b[0m in \u001b[0;36m<cell line: 112>\u001b[0;34m()\u001b[0m\n\u001b[1;32m    112\u001b[0m \u001b[0;32mwhile\u001b[0m \u001b[0;32mTrue\u001b[0m\u001b[0;34m:\u001b[0m\u001b[0;34m\u001b[0m\u001b[0;34m\u001b[0m\u001b[0m\n\u001b[1;32m    113\u001b[0m   \u001b[0mprint\u001b[0m\u001b[0;34m(\u001b[0m\u001b[0;34m'Функционал: создать рыцаря, создать дракона, начать игру'\u001b[0m\u001b[0;34m)\u001b[0m\u001b[0;34m\u001b[0m\u001b[0;34m\u001b[0m\u001b[0m\n\u001b[0;32m--> 114\u001b[0;31m   \u001b[0mwhat_to_do\u001b[0m \u001b[0;34m=\u001b[0m \u001b[0minput\u001b[0m\u001b[0;34m(\u001b[0m\u001b[0;34m'Ваши действия: '\u001b[0m\u001b[0;34m)\u001b[0m\u001b[0;34m.\u001b[0m\u001b[0mlower\u001b[0m\u001b[0;34m(\u001b[0m\u001b[0;34m)\u001b[0m\u001b[0;34m\u001b[0m\u001b[0;34m\u001b[0m\u001b[0m\n\u001b[0m\u001b[1;32m    115\u001b[0m \u001b[0;34m\u001b[0m\u001b[0m\n\u001b[1;32m    116\u001b[0m   \u001b[0;32mif\u001b[0m \u001b[0mwhat_to_do\u001b[0m \u001b[0;34m==\u001b[0m \u001b[0;34m'начать игру'\u001b[0m\u001b[0;34m:\u001b[0m\u001b[0;34m\u001b[0m\u001b[0;34m\u001b[0m\u001b[0m\n",
            "\u001b[0;32m/usr/local/lib/python3.10/dist-packages/ipykernel/kernelbase.py\u001b[0m in \u001b[0;36mraw_input\u001b[0;34m(self, prompt)\u001b[0m\n\u001b[1;32m    849\u001b[0m                 \u001b[0;34m\"raw_input was called, but this frontend does not support input requests.\"\u001b[0m\u001b[0;34m\u001b[0m\u001b[0;34m\u001b[0m\u001b[0m\n\u001b[1;32m    850\u001b[0m             )\n\u001b[0;32m--> 851\u001b[0;31m         return self._input_request(str(prompt),\n\u001b[0m\u001b[1;32m    852\u001b[0m             \u001b[0mself\u001b[0m\u001b[0;34m.\u001b[0m\u001b[0m_parent_ident\u001b[0m\u001b[0;34m,\u001b[0m\u001b[0;34m\u001b[0m\u001b[0;34m\u001b[0m\u001b[0m\n\u001b[1;32m    853\u001b[0m             \u001b[0mself\u001b[0m\u001b[0;34m.\u001b[0m\u001b[0m_parent_header\u001b[0m\u001b[0;34m,\u001b[0m\u001b[0;34m\u001b[0m\u001b[0;34m\u001b[0m\u001b[0m\n",
            "\u001b[0;32m/usr/local/lib/python3.10/dist-packages/ipykernel/kernelbase.py\u001b[0m in \u001b[0;36m_input_request\u001b[0;34m(self, prompt, ident, parent, password)\u001b[0m\n\u001b[1;32m    893\u001b[0m             \u001b[0;32mexcept\u001b[0m \u001b[0mKeyboardInterrupt\u001b[0m\u001b[0;34m:\u001b[0m\u001b[0;34m\u001b[0m\u001b[0;34m\u001b[0m\u001b[0m\n\u001b[1;32m    894\u001b[0m                 \u001b[0;31m# re-raise KeyboardInterrupt, to truncate traceback\u001b[0m\u001b[0;34m\u001b[0m\u001b[0;34m\u001b[0m\u001b[0m\n\u001b[0;32m--> 895\u001b[0;31m                 \u001b[0;32mraise\u001b[0m \u001b[0mKeyboardInterrupt\u001b[0m\u001b[0;34m(\u001b[0m\u001b[0;34m\"Interrupted by user\"\u001b[0m\u001b[0;34m)\u001b[0m \u001b[0;32mfrom\u001b[0m \u001b[0;32mNone\u001b[0m\u001b[0;34m\u001b[0m\u001b[0;34m\u001b[0m\u001b[0m\n\u001b[0m\u001b[1;32m    896\u001b[0m             \u001b[0;32mexcept\u001b[0m \u001b[0mException\u001b[0m \u001b[0;32mas\u001b[0m \u001b[0me\u001b[0m\u001b[0;34m:\u001b[0m\u001b[0;34m\u001b[0m\u001b[0;34m\u001b[0m\u001b[0m\n\u001b[1;32m    897\u001b[0m                 \u001b[0mself\u001b[0m\u001b[0;34m.\u001b[0m\u001b[0mlog\u001b[0m\u001b[0;34m.\u001b[0m\u001b[0mwarning\u001b[0m\u001b[0;34m(\u001b[0m\u001b[0;34m\"Invalid Message:\"\u001b[0m\u001b[0;34m,\u001b[0m \u001b[0mexc_info\u001b[0m\u001b[0;34m=\u001b[0m\u001b[0;32mTrue\u001b[0m\u001b[0;34m)\u001b[0m\u001b[0;34m\u001b[0m\u001b[0;34m\u001b[0m\u001b[0m\n",
            "\u001b[0;31mKeyboardInterrupt\u001b[0m: Interrupted by user"
          ]
        }
      ]
    },
    {
      "cell_type": "markdown",
      "source": [
        "# Дополнительное задание\n"
      ],
      "metadata": {
        "id": "b_mJHXcQGI9t"
      }
    },
    {
      "cell_type": "markdown",
      "source": [
        "Задача: Система управления библиотекой\n",
        "\n",
        "**Цель**\n",
        "Создайте простую систему управления библиотекой, которая позволит пользователям добавлять книги, брать книги, возвращать книги и просматривать список доступных книг.\n",
        "\n",
        "**Требования**\n",
        "\n",
        "1. **Определение класса**:\n",
        "   – Создайте класс с именем «Book» со следующими атрибутами:\n",
        "     - `title`\n",
        "     - `автор`\n",
        "     - `isbn`\n",
        "     - `is_borrowed` (по умолчанию `False`)\n",
        "\n",
        "2. **Класс библиотеки**:\n",
        "   - Создайте класс с именем Library, который управляет коллекцией книг.\n",
        "   - Класс должен иметь следующие методы:\n",
        "     - `__init__(self)`: инициализирует пустой список книг.\n",
        "     - `add_book(self, book: Book)`: добавляет новую книгу в библиотеку.\n",
        "     - `borrow_book(self, isbn: str)`: помечает книгу как заимствованную. Если книга не найдена или уже взята, выведите соответствующее сообщение.\n",
        "     - `return_book(self, isbn: str)`: помечает книгу как возвращенную. Если книга не найдена или не была взята взаймы, выведите соответствующее сообщение.\n",
        "     - `list_available_books(self)`: печатает список всех доступных книг в библиотеке.\n",
        "     - `find_book(self, isbn: str)`: возвращает объект книги, если он найден, в противном случае возвращает `None`.\n",
        "\n",
        "3. **Взаимодействие с пользователем**:\n",
        "   - Создайте простое текстовое меню, которое позволит пользователям:\n",
        "     - Добавить книгу\n",
        "     - Одолжить книгу\n",
        "     - Вернуть книгу\n",
        "     - Список доступных книг\n",
        "     - Выйти из программы"
      ],
      "metadata": {
        "id": "pnIUdFPcGOVL"
      }
    },
    {
      "cell_type": "code",
      "source": [],
      "metadata": {
        "id": "GKKmdfN8GL6f"
      },
      "execution_count": null,
      "outputs": []
    }
  ]
}