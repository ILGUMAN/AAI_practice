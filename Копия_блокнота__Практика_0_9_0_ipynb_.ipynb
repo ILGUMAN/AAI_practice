{
  "nbformat": 4,
  "nbformat_minor": 0,
  "metadata": {
    "colab": {
      "provenance": []
    },
    "kernelspec": {
      "name": "python3",
      "display_name": "Python 3"
    },
    "language_info": {
      "name": "python"
    }
  },
  "cells": [
    {
      "cell_type": "markdown",
      "source": [
        "ФИО"
      ],
      "metadata": {
        "id": "8hJfL9b2l439"
      }
    },
    {
      "cell_type": "code",
      "source": [
        "'Суханов Илья Алексеевич'"
      ],
      "metadata": {
        "id": "wRnqvYOkl6EX"
      },
      "execution_count": null,
      "outputs": []
    },
    {
      "cell_type": "markdown",
      "source": [
        "# Дисклеймер"
      ],
      "metadata": {
        "id": "weOtPwPQmgpD"
      }
    },
    {
      "cell_type": "markdown",
      "source": [
        "В данной практике вам необходимо применить все ваши знания по темам:\n",
        "\n",
        "- Функции\n",
        "- Словари\n",
        "- Списки\n",
        "- Множества\n",
        "- Условные конструкции\n",
        "- Запросы\n",
        "\n",
        "и все что было изучено на прошлых практических занятиях\n",
        "\n",
        "В каждом задании кратко описаны функции, которые необходимо реализовать, детали реализации вы должны продумать самостоятельно"
      ],
      "metadata": {
        "id": "LznB3uscmjDa"
      }
    },
    {
      "cell_type": "markdown",
      "source": [
        "# Задание 0"
      ],
      "metadata": {
        "id": "7nSJIqkTvC_C"
      }
    },
    {
      "cell_type": "code",
      "source": [
        "a = [1, 2, 3, 4]\n",
        "b = [3, 4, 5, 6]\n",
        "f=[]\n",
        "f.append(set(a) - set(b))\n",
        "f.append(set(a) & set(b))\n",
        "f.append(set(b) - set(a))\n",
        "print('Уникальные элементы из двух множеств:', *f)"
      ],
      "metadata": {
        "id": "-AvqprAGQAsm"
      },
      "execution_count": null,
      "outputs": []
    },
    {
      "cell_type": "markdown",
      "source": [
        "Создайте функцию по нахождению уникальных элементов из двух списков\n",
        "\n",
        "\n",
        "\n",
        "```\n",
        "a = [1, 2, 3, 4]\n",
        "b = [3, 4, 5, 6]\n",
        "```\n",
        "\n"
      ],
      "metadata": {
        "id": "exACjTiVvGUe"
      }
    },
    {
      "cell_type": "markdown",
      "source": [
        "# Задание 1"
      ],
      "metadata": {
        "id": "SVWNlBALpCNo"
      }
    },
    {
      "cell_type": "markdown",
      "source": [
        "Симулятор виртуального питомца\n",
        "\n",
        "Цель: создать виртуальный симулятор домашних животных, в котором пользователи смогут заводить питомцев и ухаживать за ними.\n",
        "\n",
        "Требования:\n",
        "\n",
        "- Функция для усыновления питомца (имя, тип, возраст).\n",
        "- Функция для того, чтобы покормить питомца, поиграть с ним или уложить его спать.\n",
        "- Функция для отображения состояния питомца (голод, радость, энергия)."
      ],
      "metadata": {
        "id": "RcKA-VEqpC7f"
      }
    },
    {
      "cell_type": "code",
      "source": [
        "def get_a_pat():\n",
        "  name = input('Имя:')\n",
        "  typ = input('Тип:')\n",
        "  age = int(input('Возраст (число):'))\n",
        "\n",
        "  all_pats[name] = {'type': typ, 'age': age, 'hunger': 100, 'happiness': 100, 'energy': 100}\n",
        "\n",
        "\n",
        "def activities():\n",
        "  if len(all_pats) == 0:\n",
        "    print('Вы ещё не завели питомцев! Давайте заведём сейчас')\n",
        "    get_a_pat()\n",
        "\n",
        "  name_of_pat = input('Имя питомца для взаимодействия:')\n",
        "  activity = (input('Кормить, играть или спать:')).lower()\n",
        "\n",
        "  if activity == 'кормить':\n",
        "    all_pats[name_of_pat]['hunger'] += 5\n",
        "    all_pats[name_of_pat]['happiness'] -= 5\n",
        "    all_pats[name_of_pat]['energy'] -= 5\n",
        "\n",
        "  elif activity == 'играть':\n",
        "    all_pats[name_of_pat]['happiness'] += 5\n",
        "    all_pats[name_of_pat]['hunger'] -= 5\n",
        "    all_pats[name_of_pat]['energy'] -= 5\n",
        "\n",
        "  elif activity == 'спать':\n",
        "    all_pats[name_of_pat]['energy'] += 5\n",
        "    all_pats[name_of_pat]['happiness'] -= 5\n",
        "    all_pats[name_of_pat]['hunger'] -= 5\n",
        "\n",
        "\n",
        "  if all_pats[name_of_pat]['hunger'] <= 0:\n",
        "    print('ПИТОМЕЦ УМЕР ОТ ГОЛОДА!!!')\n",
        "    del all_pats[name_of_pat]\n",
        "\n",
        "  elif all_pats[name_of_pat]['happiness'] <= 0:\n",
        "    print('ПИТОМЕЦ УМЕР ОТ СКУКИ!!!')\n",
        "    del all_pats[name_of_pat]\n",
        "\n",
        "  elif all_pats[name_of_pat]['energy'] <= 0:\n",
        "    print('ПИТОМЕЦ УМЕР ОТ ИСТОЩЕНИЯ!!!')\n",
        "    del all_pats[name_of_pat]\n",
        "\n",
        "\n",
        "  if all_pats[name_of_pat]['energy'] or all_pats[name_of_pat]['happiness'] or \\\n",
        "    all_pats[name_of_pat]['hungerr'] >= 200:\n",
        "    print('Ваш питомец подрос!')\n",
        "    all_pats[name_of_pat]['age'] += 1\n",
        "    all_pats[name_of_pat]['energy'] = 100\n",
        "    all_pats[name_of_pat]['happiness'] = 100\n",
        "    all_pats[name_of_pat]['hunger'] = 100\n",
        "\n",
        "\n",
        "def information():\n",
        "  if len(all_pats) == 0:\n",
        "    print('Вы ещё не завели питомцев! Давайте заведём сейчас')\n",
        "    get_a_pat()\n",
        "\n",
        "  name_of_pat = input('Вывести информацию про питомца:')\n",
        "\n",
        "  for key, value in all_pats[name_of_pat].items():\n",
        "    print(key, value)\n",
        "\n",
        "\n",
        "all_pats = {}\n",
        "\n",
        "while True:\n",
        "  print('Функционал: завести питомца, поиграть с питомцем, узнать характеристики питомца')\n",
        "\n",
        "  what_to_do = input().lower()\n",
        "\n",
        "  if what_to_do == 'завести питомца':\n",
        "    get_a_pat()\n",
        "  elif what_to_do == 'поиграть с питомцем':\n",
        "    activities()\n",
        "  elif what_to_do == 'узнать характеристики питомца':\n",
        "    information()"
      ],
      "metadata": {
        "id": "hE7mF-HXpJLO"
      },
      "execution_count": null,
      "outputs": []
    },
    {
      "cell_type": "markdown",
      "source": [
        "# Задание 2"
      ],
      "metadata": {
        "id": "qZ7qFQnmssNd"
      }
    },
    {
      "cell_type": "markdown",
      "source": [
        "Рыцарь и дракон\n",
        "\n",
        "Цель: создать небольшую игру, в которой вам необходимо играть за рыцаря и сразиться с драконом\n",
        "\n",
        "Требования:\n",
        "\n",
        "- Создание персонажа (имя, информация о доспехах, оружии, урон, здоровье)\n",
        "- Управление персонажем и мини сюжет\n",
        "- Создание дракона (Имя, информация о здоровье и уроне)\n",
        "- Боевая система (нанесение и получение урона, урон должен быть случайным в заданном диапазоне)\n",
        "- Реализовать бой между драконом и рыцарем"
      ],
      "metadata": {
        "id": "UaccTe7ltNvg"
      }
    },
    {
      "cell_type": "code",
      "source": [
        "from random import randint\n",
        "\n",
        "\n",
        "def create_knight():\n",
        "  name = input('Имя:')\n",
        "  armor = int(input('Броня (число):'))\n",
        "  weapon = input('Оружие:')\n",
        "  damage = int(input('Урон (число):'))\n",
        "  health = int(input('Жизни (число):'))\n",
        "\n",
        "  information['knight']['name'] = name\n",
        "  information['knight']['armor'] = armor\n",
        "  information['knight']['weapon'] = weapon\n",
        "  information['knight']['damage'] = damage\n",
        "  information['knight']['health'] = health\n",
        "\n",
        "\n",
        "def create_dragon():\n",
        "  name = input('Имя:')\n",
        "  damage = int(input('Урон (число):'))\n",
        "  health = int(input('Жизни (число):'))\n",
        "\n",
        "  information['dragon']['name'] = name\n",
        "  information['dragon']['damage'] = damage\n",
        "  information['dragon']['health'] = health\n",
        "\n",
        "\n",
        "def story():\n",
        "  print('''Давным-давно жил-был один рыцарь, который был драконофобом.\n",
        "  Он жесть как ненавидел драконов! Поэтому решил истребить их всех...\n",
        "  Наверное они заслужили это..?''')\n",
        "\n",
        "  print('''Ваше приключение начинается у вас дома.\n",
        "  Действия:\n",
        "  --> Остаться дома\n",
        "  --> Пойти в страшный лес''')\n",
        "\n",
        "  action = input('Ваши действия:').lower()\n",
        "\n",
        "  if action == 'остаться дома':\n",
        "    print('Реально. Кому вообще нужны приключения?')\n",
        "    print('YOU WIN')\n",
        "\n",
        "  elif action == 'пойти в страшный лес':\n",
        "    print('''В лесу вы видите тропинку. Как поступите?\n",
        "    Действия:\n",
        "    --> Пойти в чащу\n",
        "    --> Пойти по тропинке''')\n",
        "\n",
        "    action = input('Ваши действия:').lower()\n",
        "\n",
        "    if action == 'пойти по тропинке':\n",
        "      print('Вы ... вышли из леса, так и не найдя дракона')\n",
        "      print('YOU LOSE')\n",
        "\n",
        "    elif action == 'пойти в чащу':\n",
        "      print('Вы нашли дракона! БОЙ!!!')\n",
        "      battle()\n",
        "\n",
        "\n",
        "def battle():\n",
        "  dragon_action = randint(0, 1)\n",
        "  if dragon_action == 0:\n",
        "    print('Дракон ничего не делает')\n",
        "\n",
        "  elif dragon_action == 1:\n",
        "    print('Дракон атакует')\n",
        "\n",
        "  print('''Действия:\n",
        "  --> Нанести удар\n",
        "  --> Блокировать удар''')\n",
        "\n",
        "  player_action = input().lower()\n",
        "\n",
        "  if dragon_action == 0 and player_action == 'нанести удар':\n",
        "    information['dragon']['health'] -= randint(1, information['knight']['damage'])\n",
        "    print(f'Ваши жизни: {information[\"knight\"][\"health\"]}, Жизни дракона: {information[\"dragon\"][\"health\"]}')\n",
        "    if information['dragon']['health'] <= 0:\n",
        "      print('Дракон убит!')\n",
        "      print('YOU WIN!!!')\n",
        "    else:\n",
        "      battle()\n",
        "\n",
        "  elif dragon_action == 0 and player_action == 'блокировать удар':\n",
        "    print('Ничего не происходит')\n",
        "    print(f'Ваши жизни: {information[\"knight\"][\"health\"]}, Жизни дракона: {information[\"dragon\"][\"health\"]}')\n",
        "    battle()\n",
        "\n",
        "  elif dragon_action == 1 and player_action == 'нанести удар':\n",
        "    information['dragon']['health'] -= randint(1, information['knight']['damage'])\n",
        "    information['knight']['health'] -= randint(1, information['dragon']['damage'])\n",
        "    print(f'Ваши жизни: {information[\"knight\"][\"health\"]}, Жизни дракона: {information[\"dragon\"][\"health\"]}')\n",
        "    if information['dragon']['health'] <= 0 and information['knight']['health'] <= 0:\n",
        "      print('Дракон убит посмертно!')\n",
        "      print('YOU WIN/LOSE!!!')\n",
        "    elif information['dragon']['health'] <= 0 and information['knight']['health'] > 0:\n",
        "      print('Дракон убит!')\n",
        "      print('YOU WIN!!!')\n",
        "    elif information['dragon']['health'] > 0 and information['knight']['health'] <= 0:\n",
        "      print('Вы умерли!')\n",
        "      print('YOU LOSE!!!')\n",
        "    else:\n",
        "      battle()\n",
        "    if information['knight']['health'] <= 0:\n",
        "      print('Вы умерли!')\n",
        "      print('YOU LOSE!!!')\n",
        "    else:\n",
        "      battle()\n",
        "\n",
        "  elif dragon_action == 1 and player_action == 'блокировать удар':\n",
        "    information['knight']['health'] -= (randint(information['dragon']['damage'], information['dragon']['damage']+3) - information['knight']['armor'])\n",
        "    print(f'Ваши жизни: {information[\"knight\"][\"health\"]}, Жизни дракона: {information[\"dragon\"][\"health\"]}')\n",
        "    if information['knight']['health'] <= 0:\n",
        "      print('Вы умерли!')\n",
        "      print('YOU LOSE!!!')\n",
        "    else:\n",
        "      battle()\n",
        "\n",
        "\n",
        "information = {'knight': {}, 'dragon': {}}\n",
        "\n",
        "while True:\n",
        "  print('Функционал: создать рыцаря, создать дракона, начать игру')\n",
        "  what_to_do = input('Ваши действия: ').lower()\n",
        "\n",
        "  if what_to_do == 'начать игру':\n",
        "    if len(information['knight']) < 5:\n",
        "      print('Вы ещё не создали рыцаря!')\n",
        "\n",
        "    elif len(information['dragon']) < 3:\n",
        "      print('Вы ещё не создали дракона!')\n",
        "\n",
        "    else:\n",
        "      story()\n",
        "\n",
        "  elif what_to_do == 'создать рыцаря':\n",
        "    create_knight()\n",
        "\n",
        "  elif what_to_do == 'создать дракона':\n",
        "    create_dragon()"
      ],
      "metadata": {
        "id": "LCcxp5Q0srjY",
        "colab": {
          "base_uri": "https://localhost:8080/",
          "height": 373
        },
        "outputId": "0ee119d5-5343-432f-bd65-b28ab783cd4a"
      },
      "execution_count": null,
      "outputs": [
        {
          "output_type": "stream",
          "name": "stdout",
          "text": [
            "Функционал: создать рыцаря, создать дракона, начать игру\n"
          ]
        },
        {
          "output_type": "error",
          "ename": "KeyboardInterrupt",
          "evalue": "Interrupted by user",
          "traceback": [
            "\u001b[0;31m---------------------------------------------------------------------------\u001b[0m",
            "\u001b[0;31mKeyboardInterrupt\u001b[0m                         Traceback (most recent call last)",
            "\u001b[0;32m<ipython-input-2-02c45ca8d5ea>\u001b[0m in \u001b[0;36m<cell line: 122>\u001b[0;34m()\u001b[0m\n\u001b[1;32m    122\u001b[0m \u001b[0;32mwhile\u001b[0m \u001b[0;32mTrue\u001b[0m\u001b[0;34m:\u001b[0m\u001b[0;34m\u001b[0m\u001b[0;34m\u001b[0m\u001b[0m\n\u001b[1;32m    123\u001b[0m   \u001b[0mprint\u001b[0m\u001b[0;34m(\u001b[0m\u001b[0;34m'Функционал: создать рыцаря, создать дракона, начать игру'\u001b[0m\u001b[0;34m)\u001b[0m\u001b[0;34m\u001b[0m\u001b[0;34m\u001b[0m\u001b[0m\n\u001b[0;32m--> 124\u001b[0;31m   \u001b[0mwhat_to_do\u001b[0m \u001b[0;34m=\u001b[0m \u001b[0minput\u001b[0m\u001b[0;34m(\u001b[0m\u001b[0;34m'Ваши действия: '\u001b[0m\u001b[0;34m)\u001b[0m\u001b[0;34m.\u001b[0m\u001b[0mlower\u001b[0m\u001b[0;34m(\u001b[0m\u001b[0;34m)\u001b[0m\u001b[0;34m\u001b[0m\u001b[0;34m\u001b[0m\u001b[0m\n\u001b[0m\u001b[1;32m    125\u001b[0m \u001b[0;34m\u001b[0m\u001b[0m\n\u001b[1;32m    126\u001b[0m   \u001b[0;32mif\u001b[0m \u001b[0mwhat_to_do\u001b[0m \u001b[0;34m==\u001b[0m \u001b[0;34m'начать игру'\u001b[0m\u001b[0;34m:\u001b[0m\u001b[0;34m\u001b[0m\u001b[0;34m\u001b[0m\u001b[0m\n",
            "\u001b[0;32m/usr/local/lib/python3.10/dist-packages/ipykernel/kernelbase.py\u001b[0m in \u001b[0;36mraw_input\u001b[0;34m(self, prompt)\u001b[0m\n\u001b[1;32m    849\u001b[0m                 \u001b[0;34m\"raw_input was called, but this frontend does not support input requests.\"\u001b[0m\u001b[0;34m\u001b[0m\u001b[0;34m\u001b[0m\u001b[0m\n\u001b[1;32m    850\u001b[0m             )\n\u001b[0;32m--> 851\u001b[0;31m         return self._input_request(str(prompt),\n\u001b[0m\u001b[1;32m    852\u001b[0m             \u001b[0mself\u001b[0m\u001b[0;34m.\u001b[0m\u001b[0m_parent_ident\u001b[0m\u001b[0;34m,\u001b[0m\u001b[0;34m\u001b[0m\u001b[0;34m\u001b[0m\u001b[0m\n\u001b[1;32m    853\u001b[0m             \u001b[0mself\u001b[0m\u001b[0;34m.\u001b[0m\u001b[0m_parent_header\u001b[0m\u001b[0;34m,\u001b[0m\u001b[0;34m\u001b[0m\u001b[0;34m\u001b[0m\u001b[0m\n",
            "\u001b[0;32m/usr/local/lib/python3.10/dist-packages/ipykernel/kernelbase.py\u001b[0m in \u001b[0;36m_input_request\u001b[0;34m(self, prompt, ident, parent, password)\u001b[0m\n\u001b[1;32m    893\u001b[0m             \u001b[0;32mexcept\u001b[0m \u001b[0mKeyboardInterrupt\u001b[0m\u001b[0;34m:\u001b[0m\u001b[0;34m\u001b[0m\u001b[0;34m\u001b[0m\u001b[0m\n\u001b[1;32m    894\u001b[0m                 \u001b[0;31m# re-raise KeyboardInterrupt, to truncate traceback\u001b[0m\u001b[0;34m\u001b[0m\u001b[0;34m\u001b[0m\u001b[0m\n\u001b[0;32m--> 895\u001b[0;31m                 \u001b[0;32mraise\u001b[0m \u001b[0mKeyboardInterrupt\u001b[0m\u001b[0;34m(\u001b[0m\u001b[0;34m\"Interrupted by user\"\u001b[0m\u001b[0;34m)\u001b[0m \u001b[0;32mfrom\u001b[0m \u001b[0;32mNone\u001b[0m\u001b[0;34m\u001b[0m\u001b[0;34m\u001b[0m\u001b[0m\n\u001b[0m\u001b[1;32m    896\u001b[0m             \u001b[0;32mexcept\u001b[0m \u001b[0mException\u001b[0m \u001b[0;32mas\u001b[0m \u001b[0me\u001b[0m\u001b[0;34m:\u001b[0m\u001b[0;34m\u001b[0m\u001b[0;34m\u001b[0m\u001b[0m\n\u001b[1;32m    897\u001b[0m                 \u001b[0mself\u001b[0m\u001b[0;34m.\u001b[0m\u001b[0mlog\u001b[0m\u001b[0;34m.\u001b[0m\u001b[0mwarning\u001b[0m\u001b[0;34m(\u001b[0m\u001b[0;34m\"Invalid Message:\"\u001b[0m\u001b[0;34m,\u001b[0m \u001b[0mexc_info\u001b[0m\u001b[0;34m=\u001b[0m\u001b[0;32mTrue\u001b[0m\u001b[0;34m)\u001b[0m\u001b[0;34m\u001b[0m\u001b[0;34m\u001b[0m\u001b[0m\n",
            "\u001b[0;31mKeyboardInterrupt\u001b[0m: Interrupted by user"
          ]
        }
      ]
    },
    {
      "cell_type": "markdown",
      "source": [
        "# Задание 3\n"
      ],
      "metadata": {
        "id": "N8oFiEXol3e2"
      }
    },
    {
      "cell_type": "markdown",
      "source": [
        "Цель - создать менеджера команды Pokémon, который позволит пользователям:\n",
        "\n",
        "- Добавлять покемонов в свою команду. (если такого покемона еще нет в команде)\n",
        "- Удалять покемонов из их команды.\n",
        "- Просматривать подробную информацию обо всех покемонах в команде.\n",
        "- Находить покемона по имени.\n",
        "- Устраивать тренировочный бой между двумя покемонами\n",
        "\n",
        "Для данной задачи используйте: https://pokeapi.co/\n"
      ],
      "metadata": {
        "id": "9p4WQG_Vl7wB"
      }
    },
    {
      "cell_type": "code",
      "source": [
        "pip install requests"
      ],
      "metadata": {
        "colab": {
          "base_uri": "https://localhost:8080/"
        },
        "id": "ef_3yfOnuJAe",
        "outputId": "261735e2-7a56-4e3c-903f-67ffc6bec008"
      },
      "execution_count": null,
      "outputs": [
        {
          "output_type": "stream",
          "name": "stdout",
          "text": [
            "Requirement already satisfied: requests in /usr/local/lib/python3.10/dist-packages (2.32.3)\n",
            "Requirement already satisfied: charset-normalizer<4,>=2 in /usr/local/lib/python3.10/dist-packages (from requests) (3.4.0)\n",
            "Requirement already satisfied: idna<4,>=2.5 in /usr/local/lib/python3.10/dist-packages (from requests) (3.10)\n",
            "Requirement already satisfied: urllib3<3,>=1.21.1 in /usr/local/lib/python3.10/dist-packages (from requests) (2.2.3)\n",
            "Requirement already satisfied: certifi>=2017.4.17 in /usr/local/lib/python3.10/dist-packages (from requests) (2024.8.30)\n"
          ]
        }
      ]
    },
    {
      "cell_type": "code",
      "source": [
        "import requests\n",
        "\n",
        "\n",
        "def fetch_pokemon_data(name):\n",
        "    response = requests.get(f'https://pokeapi.co/api/v2/pokemon/{name.lower()}')\n",
        "    return response.json()\n",
        "\n",
        "\n",
        "def get_types(data):\n",
        "    return [type['type']['name'] for type in data['types']]\n",
        "\n",
        "\n",
        "def get_stats(data):\n",
        "    return {stat['stat']['name']: stat['base_stat'] for stat in data['stats']}\n",
        "\n",
        "\n",
        "def get_detail(name):\n",
        "    data = fetch_pokemon_data(name)\n",
        "    detail = {\n",
        "        'Name': name.capitalize(),\n",
        "        'Types': ', '.join(get_types(data)),\n",
        "        'Stats': ', '.join([f\"{k}: {v}\" for k, v in get_stats(data).items()])\n",
        "    }\n",
        "    return detail\n",
        "\n",
        "\n",
        "def add_pokemon(team, pokemon_name):\n",
        "    if pokemon_name not in team:\n",
        "        team.append(pokemon_name)\n",
        "        print(f'Покемон {pokemon_name} добавлен в команду')\n",
        "    else:\n",
        "        print(f'Покемон {pokemon_name} уже есть в команде')\n",
        "\n",
        "\n",
        "def remove_pokemon(team, pokemon_name):\n",
        "    if pokemon_name in team:\n",
        "        team.remove(pokemon_name)\n",
        "        print(f'Покемон {pokemon_name} удален из команды')\n",
        "    else:\n",
        "        print(f'Покемон {pokemon_name} отсутствует в команде')\n",
        "\n",
        "\n",
        "def list_team(team):\n",
        "    if len(team) == 0:\n",
        "        print(\"Команда пуста.\")\n",
        "    else:\n",
        "        print(\"Ваша команда:\")\n",
        "        for pokemon in team:\n",
        "            print(get_detail(pokemon))\n",
        "\n",
        "\n",
        "def find_pokemon(team, pokemon_name):\n",
        "    if pokemon_name in team:\n",
        "        print(get_detail(pokemon_name))\n",
        "    else:\n",
        "        print(f'Покемон {pokemon_name} отсутствует в команде')\n",
        "\n",
        "\n",
        "def train_battle(team, pokemon_1, pokemon_2):\n",
        "    if pokemon_1 in team and pokemon_2 in team:\n",
        "        data1 = fetch_pokemon_data(pokemon_1)\n",
        "        data2 = fetch_pokemon_data(pokemon_2)\n",
        "\n",
        "        total_stats_p1 = sum(get_stats(data1).values())\n",
        "        total_stats_p2 = sum(get_stats(data2).values())\n",
        "\n",
        "        if total_stats_p1 > total_stats_p2:\n",
        "            winner = pokemon_1\n",
        "        elif total_stats_p1 < total_stats_p2:\n",
        "            winner = pokemon_2\n",
        "        else:\n",
        "            winner = None\n",
        "\n",
        "        if winner:\n",
        "            print(f'Победил {winner}')\n",
        "        else:\n",
        "            print('Ничья!')\n",
        "    else:\n",
        "        print('Один или оба покемона отсутствуют в команде')\n",
        "\n",
        "\n",
        "team = []\n",
        "\n",
        "while True:\n",
        "  print('''Функционал:\n",
        "  - добавить покемона в команду\n",
        "  - посмотреть команду\n",
        "  - удалить покемона из команды\n",
        "  - найти покемона по имени\n",
        "  - устроить бой''')\n",
        "  action = input('Действие: ')\n",
        "\n",
        "  if action == 'добавить покемона в команду':\n",
        "    name= input('Имя покемона:').lower()\n",
        "    add_pokemon(team, name)\n",
        "  elif action == 'посмотреть команду':\n",
        "    list_team(team)\n",
        "  elif action == 'удалить покемона из команды':\n",
        "    name= input('Имя покемона:').lower()\n",
        "    remove_pokemon(team, name)\n",
        "  elif action == 'найти покемона по имени':\n",
        "    name= input('Имя покемона:').lower()\n",
        "    find_pokemon(team, name)\n",
        "  elif action == 'устроить бой':\n",
        "    name_1 = input('Имя первого покемона для боя:')\n",
        "    name_2 = input('Имя второго покемона для боя:')\n",
        "    train_battle(team, name_1, name_2)"
      ],
      "metadata": {
        "id": "NnGYp1MTqi5k",
        "colab": {
          "base_uri": "https://localhost:8080/",
          "height": 460
        },
        "outputId": "8d8c907e-da0a-4494-b280-b3f5ee78e203"
      },
      "execution_count": null,
      "outputs": [
        {
          "output_type": "stream",
          "name": "stdout",
          "text": [
            "Функционал:\n",
            "  - добавить покемона в команду\n",
            "  - посмотреть команду\n",
            "  - удалить покемона из команды\n",
            "  - найти покемона по имени\n",
            "  - устроить бой\n"
          ]
        },
        {
          "output_type": "error",
          "ename": "KeyboardInterrupt",
          "evalue": "Interrupted by user",
          "traceback": [
            "\u001b[0;31m---------------------------------------------------------------------------\u001b[0m",
            "\u001b[0;31mKeyboardInterrupt\u001b[0m                         Traceback (most recent call last)",
            "\u001b[0;32m<ipython-input-5-ea52e2b764fd>\u001b[0m in \u001b[0;36m<cell line: 84>\u001b[0;34m()\u001b[0m\n\u001b[1;32m     89\u001b[0m   \u001b[0;34m-\u001b[0m \u001b[0mнайти\u001b[0m \u001b[0mпокемона\u001b[0m \u001b[0mпо\u001b[0m \u001b[0mимени\u001b[0m\u001b[0;34m\u001b[0m\u001b[0;34m\u001b[0m\u001b[0m\n\u001b[1;32m     90\u001b[0m   - устроить бой''')\n\u001b[0;32m---> 91\u001b[0;31m   \u001b[0maction\u001b[0m \u001b[0;34m=\u001b[0m \u001b[0minput\u001b[0m\u001b[0;34m(\u001b[0m\u001b[0;34m'Действие: '\u001b[0m\u001b[0;34m)\u001b[0m\u001b[0;34m\u001b[0m\u001b[0;34m\u001b[0m\u001b[0m\n\u001b[0m\u001b[1;32m     92\u001b[0m \u001b[0;34m\u001b[0m\u001b[0m\n\u001b[1;32m     93\u001b[0m   \u001b[0;32mif\u001b[0m \u001b[0maction\u001b[0m \u001b[0;34m==\u001b[0m \u001b[0;34m'добавить покемона в команду'\u001b[0m\u001b[0;34m:\u001b[0m\u001b[0;34m\u001b[0m\u001b[0;34m\u001b[0m\u001b[0m\n",
            "\u001b[0;32m/usr/local/lib/python3.10/dist-packages/ipykernel/kernelbase.py\u001b[0m in \u001b[0;36mraw_input\u001b[0;34m(self, prompt)\u001b[0m\n\u001b[1;32m    849\u001b[0m                 \u001b[0;34m\"raw_input was called, but this frontend does not support input requests.\"\u001b[0m\u001b[0;34m\u001b[0m\u001b[0;34m\u001b[0m\u001b[0m\n\u001b[1;32m    850\u001b[0m             )\n\u001b[0;32m--> 851\u001b[0;31m         return self._input_request(str(prompt),\n\u001b[0m\u001b[1;32m    852\u001b[0m             \u001b[0mself\u001b[0m\u001b[0;34m.\u001b[0m\u001b[0m_parent_ident\u001b[0m\u001b[0;34m,\u001b[0m\u001b[0;34m\u001b[0m\u001b[0;34m\u001b[0m\u001b[0m\n\u001b[1;32m    853\u001b[0m             \u001b[0mself\u001b[0m\u001b[0;34m.\u001b[0m\u001b[0m_parent_header\u001b[0m\u001b[0;34m,\u001b[0m\u001b[0;34m\u001b[0m\u001b[0;34m\u001b[0m\u001b[0m\n",
            "\u001b[0;32m/usr/local/lib/python3.10/dist-packages/ipykernel/kernelbase.py\u001b[0m in \u001b[0;36m_input_request\u001b[0;34m(self, prompt, ident, parent, password)\u001b[0m\n\u001b[1;32m    893\u001b[0m             \u001b[0;32mexcept\u001b[0m \u001b[0mKeyboardInterrupt\u001b[0m\u001b[0;34m:\u001b[0m\u001b[0;34m\u001b[0m\u001b[0;34m\u001b[0m\u001b[0m\n\u001b[1;32m    894\u001b[0m                 \u001b[0;31m# re-raise KeyboardInterrupt, to truncate traceback\u001b[0m\u001b[0;34m\u001b[0m\u001b[0;34m\u001b[0m\u001b[0m\n\u001b[0;32m--> 895\u001b[0;31m                 \u001b[0;32mraise\u001b[0m \u001b[0mKeyboardInterrupt\u001b[0m\u001b[0;34m(\u001b[0m\u001b[0;34m\"Interrupted by user\"\u001b[0m\u001b[0;34m)\u001b[0m \u001b[0;32mfrom\u001b[0m \u001b[0;32mNone\u001b[0m\u001b[0;34m\u001b[0m\u001b[0;34m\u001b[0m\u001b[0m\n\u001b[0m\u001b[1;32m    896\u001b[0m             \u001b[0;32mexcept\u001b[0m \u001b[0mException\u001b[0m \u001b[0;32mas\u001b[0m \u001b[0me\u001b[0m\u001b[0;34m:\u001b[0m\u001b[0;34m\u001b[0m\u001b[0;34m\u001b[0m\u001b[0m\n\u001b[1;32m    897\u001b[0m                 \u001b[0mself\u001b[0m\u001b[0;34m.\u001b[0m\u001b[0mlog\u001b[0m\u001b[0;34m.\u001b[0m\u001b[0mwarning\u001b[0m\u001b[0;34m(\u001b[0m\u001b[0;34m\"Invalid Message:\"\u001b[0m\u001b[0;34m,\u001b[0m \u001b[0mexc_info\u001b[0m\u001b[0;34m=\u001b[0m\u001b[0;32mTrue\u001b[0m\u001b[0;34m)\u001b[0m\u001b[0;34m\u001b[0m\u001b[0;34m\u001b[0m\u001b[0m\n",
            "\u001b[0;31mKeyboardInterrupt\u001b[0m: Interrupted by user"
          ]
        }
      ]
    }
  ]
}